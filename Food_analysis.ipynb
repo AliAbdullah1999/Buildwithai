{
 "cells": [
  {
   "cell_type": "code",
   "execution_count": 1,
   "id": "aac14d89",
   "metadata": {},
   "outputs": [],
   "source": [
    "import pandas as  pd\n",
    "import numpy as np"
   ]
  },
  {
   "cell_type": "code",
   "execution_count": 2,
   "id": "ba70e350",
   "metadata": {},
   "outputs": [],
   "source": [
    "df =pd.read_csv('foodshelf.csv')\n",
    "df1 =pd.read_csv('foodfridge.csv')\n",
    "df2 = pd.read_csv('foodexp.csv')\n",
    " \n",
    "\n",
    "df_list = [df, df1, df2]\n",
    "data = pd.concat(df_list)\n"
   ]
  },
  {
   "cell_type": "code",
   "execution_count": 3,
   "id": "8a6f9fe4",
   "metadata": {},
   "outputs": [
    {
     "data": {
      "text/html": [
       "<div>\n",
       "<style scoped>\n",
       "    .dataframe tbody tr th:only-of-type {\n",
       "        vertical-align: middle;\n",
       "    }\n",
       "\n",
       "    .dataframe tbody tr th {\n",
       "        vertical-align: top;\n",
       "    }\n",
       "\n",
       "    .dataframe thead th {\n",
       "        text-align: right;\n",
       "    }\n",
       "</style>\n",
       "<table border=\"1\" class=\"dataframe\">\n",
       "  <thead>\n",
       "    <tr style=\"text-align: right;\">\n",
       "      <th></th>\n",
       "      <th>TYPE</th>\n",
       "      <th>ITEM</th>\n",
       "      <th>PERIOD</th>\n",
       "      <th>DETAILS</th>\n",
       "      <th>STORAGE</th>\n",
       "    </tr>\n",
       "  </thead>\n",
       "  <tbody>\n",
       "    <tr>\n",
       "      <th>0</th>\n",
       "      <td>FRUIT</td>\n",
       "      <td>Apples</td>\n",
       "      <td>1-2 days</td>\n",
       "      <td>NaN</td>\n",
       "      <td>SHELF</td>\n",
       "    </tr>\n",
       "    <tr>\n",
       "      <th>1</th>\n",
       "      <td>FRUIT</td>\n",
       "      <td>Apricots</td>\n",
       "      <td>Until ripe</td>\n",
       "      <td>NaN</td>\n",
       "      <td>SHELF</td>\n",
       "    </tr>\n",
       "    <tr>\n",
       "      <th>2</th>\n",
       "      <td>FRUIT</td>\n",
       "      <td>Avocados</td>\n",
       "      <td>Until ripe</td>\n",
       "      <td>NaN</td>\n",
       "      <td>SHELF</td>\n",
       "    </tr>\n",
       "    <tr>\n",
       "      <th>3</th>\n",
       "      <td>FRUIT</td>\n",
       "      <td>Bananas</td>\n",
       "      <td>Until ripe</td>\n",
       "      <td>NaN</td>\n",
       "      <td>SHELF</td>\n",
       "    </tr>\n",
       "    <tr>\n",
       "      <th>4</th>\n",
       "      <td>FRUIT</td>\n",
       "      <td>Citrus Fruit</td>\n",
       "      <td>10 days</td>\n",
       "      <td>NaN</td>\n",
       "      <td>SHELF</td>\n",
       "    </tr>\n",
       "  </tbody>\n",
       "</table>\n",
       "</div>"
      ],
      "text/plain": [
       "    TYPE          ITEM      PERIOD DETAILS STORAGE\n",
       "0  FRUIT        Apples    1-2 days     NaN   SHELF\n",
       "1  FRUIT      Apricots  Until ripe     NaN   SHELF\n",
       "2  FRUIT      Avocados  Until ripe     NaN   SHELF\n",
       "3  FRUIT       Bananas  Until ripe     NaN   SHELF\n",
       "4  FRUIT  Citrus Fruit     10 days     NaN   SHELF"
      ]
     },
     "execution_count": 3,
     "metadata": {},
     "output_type": "execute_result"
    }
   ],
   "source": [
    "data.head()"
   ]
  },
  {
   "cell_type": "code",
   "execution_count": 4,
   "id": "c9012ecb",
   "metadata": {},
   "outputs": [
    {
     "data": {
      "text/html": [
       "<div>\n",
       "<style scoped>\n",
       "    .dataframe tbody tr th:only-of-type {\n",
       "        vertical-align: middle;\n",
       "    }\n",
       "\n",
       "    .dataframe tbody tr th {\n",
       "        vertical-align: top;\n",
       "    }\n",
       "\n",
       "    .dataframe thead th {\n",
       "        text-align: right;\n",
       "    }\n",
       "</style>\n",
       "<table border=\"1\" class=\"dataframe\">\n",
       "  <thead>\n",
       "    <tr style=\"text-align: right;\">\n",
       "      <th></th>\n",
       "      <th>TYPE</th>\n",
       "      <th>ITEM</th>\n",
       "      <th>PERIOD</th>\n",
       "      <th>DETAILS</th>\n",
       "      <th>STORAGE</th>\n",
       "    </tr>\n",
       "  </thead>\n",
       "  <tbody>\n",
       "    <tr>\n",
       "      <th>674</th>\n",
       "      <td>BAKERY</td>\n",
       "      <td>Rolls, yeast, partially baked</td>\n",
       "      <td>2 months</td>\n",
       "      <td>NaN</td>\n",
       "      <td>FROZEN</td>\n",
       "    </tr>\n",
       "    <tr>\n",
       "      <th>675</th>\n",
       "      <td>BAKERY</td>\n",
       "      <td>Rolls, filled, meat or vegetables</td>\n",
       "      <td>2 hours</td>\n",
       "      <td>NaN</td>\n",
       "      <td>SHELF</td>\n",
       "    </tr>\n",
       "    <tr>\n",
       "      <th>676</th>\n",
       "      <td>BAKERY</td>\n",
       "      <td>Rolls, filled, meat or vegetables</td>\n",
       "      <td>3-4 days</td>\n",
       "      <td>NaN</td>\n",
       "      <td>REFRIGERATED</td>\n",
       "    </tr>\n",
       "    <tr>\n",
       "      <th>677</th>\n",
       "      <td>BAKERY</td>\n",
       "      <td>Rolls, filled, meat or vegetables</td>\n",
       "      <td>2 months</td>\n",
       "      <td>NaN</td>\n",
       "      <td>FROZEN</td>\n",
       "    </tr>\n",
       "    <tr>\n",
       "      <th>678</th>\n",
       "      <td>BAKERY</td>\n",
       "      <td>Doughnuts, glazed or cake</td>\n",
       "      <td>1 week</td>\n",
       "      <td>G</td>\n",
       "      <td>REFRIGERATED</td>\n",
       "    </tr>\n",
       "  </tbody>\n",
       "</table>\n",
       "</div>"
      ],
      "text/plain": [
       "       TYPE                               ITEM    PERIOD DETAILS       STORAGE\n",
       "674  BAKERY      Rolls, yeast, partially baked  2 months     NaN        FROZEN\n",
       "675  BAKERY  Rolls, filled, meat or vegetables   2 hours     NaN         SHELF\n",
       "676  BAKERY  Rolls, filled, meat or vegetables  3-4 days     NaN  REFRIGERATED\n",
       "677  BAKERY  Rolls, filled, meat or vegetables  2 months     NaN        FROZEN\n",
       "678  BAKERY          Doughnuts, glazed or cake    1 week       G  REFRIGERATED"
      ]
     },
     "execution_count": 4,
     "metadata": {},
     "output_type": "execute_result"
    }
   ],
   "source": [
    "data.tail()"
   ]
  },
  {
   "cell_type": "code",
   "execution_count": 5,
   "id": "35c0ebee",
   "metadata": {},
   "outputs": [
    {
     "data": {
      "text/plain": [
       "(1358, 5)"
      ]
     },
     "execution_count": 5,
     "metadata": {},
     "output_type": "execute_result"
    }
   ],
   "source": [
    "data.shape"
   ]
  },
  {
   "cell_type": "code",
   "execution_count": 6,
   "id": "c366824d",
   "metadata": {},
   "outputs": [
    {
     "data": {
      "text/plain": [
       "Int64Index([  0,   1,   2,   3,   4,   5,   6,   7,   8,   9,\n",
       "            ...\n",
       "            669, 670, 671, 672, 673, 674, 675, 676, 677, 678],\n",
       "           dtype='int64', length=1358)"
      ]
     },
     "execution_count": 6,
     "metadata": {},
     "output_type": "execute_result"
    }
   ],
   "source": [
    "data.index"
   ]
  },
  {
   "cell_type": "code",
   "execution_count": 7,
   "id": "52d9b19f",
   "metadata": {},
   "outputs": [
    {
     "data": {
      "text/plain": [
       "Index(['TYPE', 'ITEM', 'PERIOD', 'DETAILS', 'STORAGE'], dtype='object')"
      ]
     },
     "execution_count": 7,
     "metadata": {},
     "output_type": "execute_result"
    }
   ],
   "source": [
    "data.columns"
   ]
  },
  {
   "cell_type": "code",
   "execution_count": 8,
   "id": "2e3efe0d",
   "metadata": {},
   "outputs": [
    {
     "data": {
      "text/plain": [
       "array([['FRUIT', 'Apples', '1-2 days', nan, 'SHELF'],\n",
       "       ['FRUIT', 'Apricots', 'Until ripe', nan, 'SHELF'],\n",
       "       ['FRUIT', 'Avocados', 'Until ripe', nan, 'SHELF'],\n",
       "       ...,\n",
       "       ['BAKERY', 'Rolls, filled, meat or vegetables', '3-4 days', nan,\n",
       "        'REFRIGERATED'],\n",
       "       ['BAKERY', 'Rolls, filled, meat or vegetables', '2 months', nan,\n",
       "        'FROZEN'],\n",
       "       ['BAKERY', 'Doughnuts, glazed or cake', '1 week', 'G',\n",
       "        'REFRIGERATED']], dtype=object)"
      ]
     },
     "execution_count": 8,
     "metadata": {},
     "output_type": "execute_result"
    }
   ],
   "source": [
    "data.values"
   ]
  },
  {
   "cell_type": "code",
   "execution_count": 9,
   "id": "3b9f108d",
   "metadata": {},
   "outputs": [
    {
     "data": {
      "text/plain": [
       "TYPE       object\n",
       "ITEM       object\n",
       "PERIOD     object\n",
       "DETAILS    object\n",
       "STORAGE    object\n",
       "dtype: object"
      ]
     },
     "execution_count": 9,
     "metadata": {},
     "output_type": "execute_result"
    }
   ],
   "source": [
    "data.dtypes"
   ]
  },
  {
   "cell_type": "code",
   "execution_count": 10,
   "id": "480c1fb7",
   "metadata": {},
   "outputs": [
    {
     "data": {
      "text/plain": [
       "TYPE        23\n",
       "ITEM       300\n",
       "PERIOD      88\n",
       "DETAILS     21\n",
       "STORAGE      4\n",
       "dtype: int64"
      ]
     },
     "execution_count": 10,
     "metadata": {},
     "output_type": "execute_result"
    }
   ],
   "source": [
    "data.nunique()"
   ]
  },
  {
   "cell_type": "code",
   "execution_count": 11,
   "id": "211e3b4a",
   "metadata": {},
   "outputs": [
    {
     "data": {
      "text/plain": [
       "TYPE       1358\n",
       "ITEM       1358\n",
       "PERIOD     1280\n",
       "DETAILS     614\n",
       "STORAGE    1358\n",
       "dtype: int64"
      ]
     },
     "execution_count": 11,
     "metadata": {},
     "output_type": "execute_result"
    }
   ],
   "source": [
    "data.count()"
   ]
  },
  {
   "cell_type": "code",
   "execution_count": 12,
   "id": "73346a28",
   "metadata": {},
   "outputs": [
    {
     "data": {
      "text/plain": [
       "TYPE         0\n",
       "ITEM         0\n",
       "PERIOD      78\n",
       "DETAILS    744\n",
       "STORAGE      0\n",
       "dtype: int64"
      ]
     },
     "execution_count": 12,
     "metadata": {},
     "output_type": "execute_result"
    }
   ],
   "source": [
    "data.isnull().sum()"
   ]
  },
  {
   "cell_type": "code",
   "execution_count": 13,
   "id": "e41e6566",
   "metadata": {},
   "outputs": [
    {
     "name": "stdout",
     "output_type": "stream",
     "text": [
      "<class 'pandas.core.frame.DataFrame'>\n",
      "Int64Index: 1358 entries, 0 to 678\n",
      "Data columns (total 5 columns):\n",
      " #   Column   Non-Null Count  Dtype \n",
      "---  ------   --------------  ----- \n",
      " 0   TYPE     1358 non-null   object\n",
      " 1   ITEM     1358 non-null   object\n",
      " 2   PERIOD   1280 non-null   object\n",
      " 3   DETAILS  614 non-null    object\n",
      " 4   STORAGE  1358 non-null   object\n",
      "dtypes: object(5)\n",
      "memory usage: 63.7+ KB\n"
     ]
    }
   ],
   "source": [
    "data.info()"
   ]
  },
  {
   "cell_type": "code",
   "execution_count": 14,
   "id": "3da9961d",
   "metadata": {},
   "outputs": [
    {
     "data": {
      "text/html": [
       "<div>\n",
       "<style scoped>\n",
       "    .dataframe tbody tr th:only-of-type {\n",
       "        vertical-align: middle;\n",
       "    }\n",
       "\n",
       "    .dataframe tbody tr th {\n",
       "        vertical-align: top;\n",
       "    }\n",
       "\n",
       "    .dataframe thead th {\n",
       "        text-align: right;\n",
       "    }\n",
       "</style>\n",
       "<table border=\"1\" class=\"dataframe\">\n",
       "  <thead>\n",
       "    <tr style=\"text-align: right;\">\n",
       "      <th></th>\n",
       "      <th>TYPE</th>\n",
       "      <th>ITEM</th>\n",
       "      <th>PERIOD</th>\n",
       "      <th>DETAILS</th>\n",
       "      <th>STORAGE</th>\n",
       "    </tr>\n",
       "  </thead>\n",
       "  <tbody>\n",
       "    <tr>\n",
       "      <th>0</th>\n",
       "      <td>FRUIT</td>\n",
       "      <td>Apples</td>\n",
       "      <td>1-2 days</td>\n",
       "      <td>NaN</td>\n",
       "      <td>SHELF</td>\n",
       "    </tr>\n",
       "  </tbody>\n",
       "</table>\n",
       "</div>"
      ],
      "text/plain": [
       "    TYPE    ITEM    PERIOD DETAILS STORAGE\n",
       "0  FRUIT  Apples  1-2 days     NaN   SHELF"
      ]
     },
     "execution_count": 14,
     "metadata": {},
     "output_type": "execute_result"
    }
   ],
   "source": [
    "data.head(1)"
   ]
  },
  {
   "cell_type": "code",
   "execution_count": 15,
   "id": "8ac32f43",
   "metadata": {},
   "outputs": [
    {
     "data": {
      "text/plain": [
       "1-2 days             90\n",
       "12 months            90\n",
       "3-4 days             80\n",
       "6 months             76\n",
       "1 week               74\n",
       "                     ..\n",
       "3-5 weeks             2\n",
       "1 week after date     2\n",
       "7-21 days             2\n",
       "Do not freeze         2\n",
       "8-12 days             2\n",
       "Name: PERIOD, Length: 88, dtype: int64"
      ]
     },
     "execution_count": 15,
     "metadata": {},
     "output_type": "execute_result"
    }
   ],
   "source": [
    "data['PERIOD'].value_counts()"
   ]
  },
  {
   "cell_type": "code",
   "execution_count": 16,
   "id": "52e8011b",
   "metadata": {},
   "outputs": [
    {
     "data": {
      "text/html": [
       "<div>\n",
       "<style scoped>\n",
       "    .dataframe tbody tr th:only-of-type {\n",
       "        vertical-align: middle;\n",
       "    }\n",
       "\n",
       "    .dataframe tbody tr th {\n",
       "        vertical-align: top;\n",
       "    }\n",
       "\n",
       "    .dataframe thead th {\n",
       "        text-align: right;\n",
       "    }\n",
       "</style>\n",
       "<table border=\"1\" class=\"dataframe\">\n",
       "  <thead>\n",
       "    <tr style=\"text-align: right;\">\n",
       "      <th></th>\n",
       "      <th>TYPE</th>\n",
       "      <th>ITEM</th>\n",
       "      <th>PERIOD</th>\n",
       "      <th>DETAILS</th>\n",
       "      <th>STORAGE</th>\n",
       "    </tr>\n",
       "  </thead>\n",
       "  <tbody>\n",
       "    <tr>\n",
       "      <th>29</th>\n",
       "      <td>SHELF_ITEM</td>\n",
       "      <td>Beans, Dried</td>\n",
       "      <td>12 months</td>\n",
       "      <td>unopened</td>\n",
       "      <td>SHELF</td>\n",
       "    </tr>\n",
       "    <tr>\n",
       "      <th>30</th>\n",
       "      <td>SHELF_ITEM</td>\n",
       "      <td>Beans, Dried</td>\n",
       "      <td>12 months</td>\n",
       "      <td>opened</td>\n",
       "      <td>SHELF</td>\n",
       "    </tr>\n",
       "    <tr>\n",
       "      <th>35</th>\n",
       "      <td>SHELF_ITEM</td>\n",
       "      <td>Cereal, cook before eating (oatmeal, etc.)</td>\n",
       "      <td>12 months</td>\n",
       "      <td>unopened</td>\n",
       "      <td>SHELF</td>\n",
       "    </tr>\n",
       "    <tr>\n",
       "      <th>41</th>\n",
       "      <td>SHELF_ITEM</td>\n",
       "      <td>Coffee, instant, jars and tins</td>\n",
       "      <td>12 months</td>\n",
       "      <td>unopened</td>\n",
       "      <td>SHELF</td>\n",
       "    </tr>\n",
       "    <tr>\n",
       "      <th>60</th>\n",
       "      <td>BAKING</td>\n",
       "      <td>Frosting, Frosting mixes</td>\n",
       "      <td>12 months</td>\n",
       "      <td>unopened</td>\n",
       "      <td>SHELF</td>\n",
       "    </tr>\n",
       "    <tr>\n",
       "      <th>...</th>\n",
       "      <td>...</td>\n",
       "      <td>...</td>\n",
       "      <td>...</td>\n",
       "      <td>...</td>\n",
       "      <td>...</td>\n",
       "    </tr>\n",
       "    <tr>\n",
       "      <th>587</th>\n",
       "      <td>SHELF_ITEM</td>\n",
       "      <td>Tapioca</td>\n",
       "      <td>12 months</td>\n",
       "      <td>opened</td>\n",
       "      <td>SHELF</td>\n",
       "    </tr>\n",
       "    <tr>\n",
       "      <th>589</th>\n",
       "      <td>SHELF_ITEM</td>\n",
       "      <td>Tea, bags</td>\n",
       "      <td>12 months</td>\n",
       "      <td>opened</td>\n",
       "      <td>SHELF</td>\n",
       "    </tr>\n",
       "    <tr>\n",
       "      <th>596</th>\n",
       "      <td>SHELF_ITEM</td>\n",
       "      <td>Tomatoes, sun dried, packed in oil</td>\n",
       "      <td>12 months</td>\n",
       "      <td>unopened</td>\n",
       "      <td>SHELF</td>\n",
       "    </tr>\n",
       "    <tr>\n",
       "      <th>603</th>\n",
       "      <td>SHELF_ITEM</td>\n",
       "      <td>Vinegar</td>\n",
       "      <td>12 months</td>\n",
       "      <td>opened</td>\n",
       "      <td>SHELF</td>\n",
       "    </tr>\n",
       "    <tr>\n",
       "      <th>627</th>\n",
       "      <td>BAKERY</td>\n",
       "      <td>Cakes, fruit cake</td>\n",
       "      <td>12 months</td>\n",
       "      <td>NaN</td>\n",
       "      <td>FROZEN</td>\n",
       "    </tr>\n",
       "  </tbody>\n",
       "</table>\n",
       "<p>90 rows × 5 columns</p>\n",
       "</div>"
      ],
      "text/plain": [
       "           TYPE                                        ITEM     PERIOD  \\\n",
       "29   SHELF_ITEM                                Beans, Dried  12 months   \n",
       "30   SHELF_ITEM                                Beans, Dried  12 months   \n",
       "35   SHELF_ITEM  Cereal, cook before eating (oatmeal, etc.)  12 months   \n",
       "41   SHELF_ITEM              Coffee, instant, jars and tins  12 months   \n",
       "60       BAKING                    Frosting, Frosting mixes  12 months   \n",
       "..          ...                                         ...        ...   \n",
       "587  SHELF_ITEM                                     Tapioca  12 months   \n",
       "589  SHELF_ITEM                                   Tea, bags  12 months   \n",
       "596  SHELF_ITEM          Tomatoes, sun dried, packed in oil  12 months   \n",
       "603  SHELF_ITEM                                     Vinegar  12 months   \n",
       "627      BAKERY                           Cakes, fruit cake  12 months   \n",
       "\n",
       "      DETAILS STORAGE  \n",
       "29   unopened   SHELF  \n",
       "30     opened   SHELF  \n",
       "35   unopened   SHELF  \n",
       "41   unopened   SHELF  \n",
       "60   unopened   SHELF  \n",
       "..        ...     ...  \n",
       "587    opened   SHELF  \n",
       "589    opened   SHELF  \n",
       "596  unopened   SHELF  \n",
       "603    opened   SHELF  \n",
       "627       NaN  FROZEN  \n",
       "\n",
       "[90 rows x 5 columns]"
      ]
     },
     "execution_count": 16,
     "metadata": {},
     "output_type": "execute_result"
    }
   ],
   "source": [
    "data[data['PERIOD'] == '12 months']"
   ]
  },
  {
   "cell_type": "code",
   "execution_count": 17,
   "id": "44e813b4",
   "metadata": {},
   "outputs": [
    {
     "data": {
      "text/html": [
       "<div>\n",
       "<style scoped>\n",
       "    .dataframe tbody tr th:only-of-type {\n",
       "        vertical-align: middle;\n",
       "    }\n",
       "\n",
       "    .dataframe tbody tr th {\n",
       "        vertical-align: top;\n",
       "    }\n",
       "\n",
       "    .dataframe thead th {\n",
       "        text-align: right;\n",
       "    }\n",
       "</style>\n",
       "<table border=\"1\" class=\"dataframe\">\n",
       "  <thead>\n",
       "    <tr style=\"text-align: right;\">\n",
       "      <th></th>\n",
       "      <th>TYPE</th>\n",
       "      <th>ITEM</th>\n",
       "      <th>PERIOD</th>\n",
       "      <th>DETAILS</th>\n",
       "      <th>STORAGE</th>\n",
       "    </tr>\n",
       "  </thead>\n",
       "  <tbody>\n",
       "    <tr>\n",
       "      <th>0</th>\n",
       "      <td>FRUIT</td>\n",
       "      <td>Apples</td>\n",
       "      <td>1-2 days</td>\n",
       "      <td>NaN</td>\n",
       "      <td>SHELF</td>\n",
       "    </tr>\n",
       "    <tr>\n",
       "      <th>4</th>\n",
       "      <td>FRUIT</td>\n",
       "      <td>Citrus Fruit</td>\n",
       "      <td>10 days</td>\n",
       "      <td>NaN</td>\n",
       "      <td>SHELF</td>\n",
       "    </tr>\n",
       "    <tr>\n",
       "      <th>5</th>\n",
       "      <td>FRUIT</td>\n",
       "      <td>Coconuts</td>\n",
       "      <td>1 week</td>\n",
       "      <td>fresh</td>\n",
       "      <td>SHELF</td>\n",
       "    </tr>\n",
       "    <tr>\n",
       "      <th>6</th>\n",
       "      <td>FRUIT</td>\n",
       "      <td>Grapes</td>\n",
       "      <td>1 day</td>\n",
       "      <td>NaN</td>\n",
       "      <td>SHELF</td>\n",
       "    </tr>\n",
       "    <tr>\n",
       "      <th>8</th>\n",
       "      <td>FRUIT</td>\n",
       "      <td>Melons</td>\n",
       "      <td>1-2 days</td>\n",
       "      <td>NaN</td>\n",
       "      <td>SHELF</td>\n",
       "    </tr>\n",
       "    <tr>\n",
       "      <th>...</th>\n",
       "      <td>...</td>\n",
       "      <td>...</td>\n",
       "      <td>...</td>\n",
       "      <td>...</td>\n",
       "      <td>...</td>\n",
       "    </tr>\n",
       "    <tr>\n",
       "      <th>662</th>\n",
       "      <td>BAKERY</td>\n",
       "      <td>Pies, pecan</td>\n",
       "      <td>1-2 months</td>\n",
       "      <td>NaN</td>\n",
       "      <td>FROZEN</td>\n",
       "    </tr>\n",
       "    <tr>\n",
       "      <th>665</th>\n",
       "      <td>BAKERY</td>\n",
       "      <td>Pies, pumpkin</td>\n",
       "      <td>1-2 months</td>\n",
       "      <td>NaN</td>\n",
       "      <td>FROZEN</td>\n",
       "    </tr>\n",
       "    <tr>\n",
       "      <th>670</th>\n",
       "      <td>BAKERY</td>\n",
       "      <td>Rolls, yeast, baked</td>\n",
       "      <td>1 week</td>\n",
       "      <td>NaN</td>\n",
       "      <td>REFRIGERATED</td>\n",
       "    </tr>\n",
       "    <tr>\n",
       "      <th>673</th>\n",
       "      <td>BAKERY</td>\n",
       "      <td>Rolls, yeast, partially baked</td>\n",
       "      <td>1 week</td>\n",
       "      <td>NaN</td>\n",
       "      <td>REFRIGERATED</td>\n",
       "    </tr>\n",
       "    <tr>\n",
       "      <th>678</th>\n",
       "      <td>BAKERY</td>\n",
       "      <td>Doughnuts, glazed or cake</td>\n",
       "      <td>1 week</td>\n",
       "      <td>G</td>\n",
       "      <td>REFRIGERATED</td>\n",
       "    </tr>\n",
       "  </tbody>\n",
       "</table>\n",
       "<p>410 rows × 5 columns</p>\n",
       "</div>"
      ],
      "text/plain": [
       "       TYPE                           ITEM      PERIOD DETAILS       STORAGE\n",
       "0     FRUIT                         Apples    1-2 days     NaN         SHELF\n",
       "4     FRUIT                   Citrus Fruit     10 days     NaN         SHELF\n",
       "5     FRUIT                       Coconuts      1 week   fresh         SHELF\n",
       "6     FRUIT                         Grapes       1 day     NaN         SHELF\n",
       "8     FRUIT                         Melons    1-2 days     NaN         SHELF\n",
       "..      ...                            ...         ...     ...           ...\n",
       "662  BAKERY                    Pies, pecan  1-2 months     NaN        FROZEN\n",
       "665  BAKERY                  Pies, pumpkin  1-2 months     NaN        FROZEN\n",
       "670  BAKERY            Rolls, yeast, baked      1 week     NaN  REFRIGERATED\n",
       "673  BAKERY  Rolls, yeast, partially baked      1 week     NaN  REFRIGERATED\n",
       "678  BAKERY      Doughnuts, glazed or cake      1 week       G  REFRIGERATED\n",
       "\n",
       "[410 rows x 5 columns]"
      ]
     },
     "execution_count": 17,
     "metadata": {},
     "output_type": "execute_result"
    }
   ],
   "source": [
    "data[data['PERIOD'] < '12 months']"
   ]
  },
  {
   "cell_type": "code",
   "execution_count": 18,
   "id": "0441a0be",
   "metadata": {},
   "outputs": [
    {
     "data": {
      "text/plain": [
       "TYPE       6\n",
       "ITEM       6\n",
       "PERIOD     6\n",
       "DETAILS    2\n",
       "STORAGE    6\n",
       "dtype: int64"
      ]
     },
     "execution_count": 18,
     "metadata": {},
     "output_type": "execute_result"
    }
   ],
   "source": [
    "(data[data['ITEM'] == 'Apples']).count()"
   ]
  },
  {
   "cell_type": "code",
   "execution_count": 19,
   "id": "48d97051",
   "metadata": {
    "scrolled": true
   },
   "outputs": [
    {
     "data": {
      "text/plain": [
       "TYPE       1358\n",
       "ITEM       1358\n",
       "PERIOD     1280\n",
       "DETAILS     614\n",
       "STORAGE    1358\n",
       "dtype: int64"
      ]
     },
     "execution_count": 19,
     "metadata": {},
     "output_type": "execute_result"
    }
   ],
   "source": [
    "data.notnull().sum()"
   ]
  },
  {
   "cell_type": "code",
   "execution_count": 20,
   "id": "6e7c1fc1",
   "metadata": {},
   "outputs": [
    {
     "data": {
      "text/html": [
       "<div>\n",
       "<style scoped>\n",
       "    .dataframe tbody tr th:only-of-type {\n",
       "        vertical-align: middle;\n",
       "    }\n",
       "\n",
       "    .dataframe tbody tr th {\n",
       "        vertical-align: top;\n",
       "    }\n",
       "\n",
       "    .dataframe thead th {\n",
       "        text-align: right;\n",
       "    }\n",
       "</style>\n",
       "<table border=\"1\" class=\"dataframe\">\n",
       "  <thead>\n",
       "    <tr style=\"text-align: right;\">\n",
       "      <th></th>\n",
       "      <th>TYPE</th>\n",
       "      <th>ITEM</th>\n",
       "      <th>PERIOD</th>\n",
       "      <th>DETAILS</th>\n",
       "      <th>STORAGE</th>\n",
       "    </tr>\n",
       "  </thead>\n",
       "  <tbody>\n",
       "    <tr>\n",
       "      <th>0</th>\n",
       "      <td>FRUIT</td>\n",
       "      <td>Apples</td>\n",
       "      <td>1-2 days</td>\n",
       "      <td>NaN</td>\n",
       "      <td>SHELF</td>\n",
       "    </tr>\n",
       "  </tbody>\n",
       "</table>\n",
       "</div>"
      ],
      "text/plain": [
       "    TYPE    ITEM    PERIOD DETAILS STORAGE\n",
       "0  FRUIT  Apples  1-2 days     NaN   SHELF"
      ]
     },
     "execution_count": 20,
     "metadata": {},
     "output_type": "execute_result"
    }
   ],
   "source": [
    "data.head(1)"
   ]
  },
  {
   "cell_type": "code",
   "execution_count": 21,
   "id": "e3034bc1",
   "metadata": {},
   "outputs": [],
   "source": [
    "data.rename(columns = {'TYPE':'FOOD TYPE'},inplace =True)"
   ]
  },
  {
   "cell_type": "code",
   "execution_count": 22,
   "id": "f08d5193",
   "metadata": {},
   "outputs": [
    {
     "data": {
      "text/html": [
       "<div>\n",
       "<style scoped>\n",
       "    .dataframe tbody tr th:only-of-type {\n",
       "        vertical-align: middle;\n",
       "    }\n",
       "\n",
       "    .dataframe tbody tr th {\n",
       "        vertical-align: top;\n",
       "    }\n",
       "\n",
       "    .dataframe thead th {\n",
       "        text-align: right;\n",
       "    }\n",
       "</style>\n",
       "<table border=\"1\" class=\"dataframe\">\n",
       "  <thead>\n",
       "    <tr style=\"text-align: right;\">\n",
       "      <th></th>\n",
       "      <th>FOOD TYPE</th>\n",
       "      <th>ITEM</th>\n",
       "      <th>PERIOD</th>\n",
       "      <th>DETAILS</th>\n",
       "      <th>STORAGE</th>\n",
       "    </tr>\n",
       "  </thead>\n",
       "  <tbody>\n",
       "    <tr>\n",
       "      <th>0</th>\n",
       "      <td>FRUIT</td>\n",
       "      <td>Apples</td>\n",
       "      <td>1-2 days</td>\n",
       "      <td>NaN</td>\n",
       "      <td>SHELF</td>\n",
       "    </tr>\n",
       "    <tr>\n",
       "      <th>1</th>\n",
       "      <td>FRUIT</td>\n",
       "      <td>Apricots</td>\n",
       "      <td>Until ripe</td>\n",
       "      <td>NaN</td>\n",
       "      <td>SHELF</td>\n",
       "    </tr>\n",
       "    <tr>\n",
       "      <th>2</th>\n",
       "      <td>FRUIT</td>\n",
       "      <td>Avocados</td>\n",
       "      <td>Until ripe</td>\n",
       "      <td>NaN</td>\n",
       "      <td>SHELF</td>\n",
       "    </tr>\n",
       "    <tr>\n",
       "      <th>3</th>\n",
       "      <td>FRUIT</td>\n",
       "      <td>Bananas</td>\n",
       "      <td>Until ripe</td>\n",
       "      <td>NaN</td>\n",
       "      <td>SHELF</td>\n",
       "    </tr>\n",
       "    <tr>\n",
       "      <th>4</th>\n",
       "      <td>FRUIT</td>\n",
       "      <td>Citrus Fruit</td>\n",
       "      <td>10 days</td>\n",
       "      <td>NaN</td>\n",
       "      <td>SHELF</td>\n",
       "    </tr>\n",
       "  </tbody>\n",
       "</table>\n",
       "</div>"
      ],
      "text/plain": [
       "  FOOD TYPE          ITEM      PERIOD DETAILS STORAGE\n",
       "0     FRUIT        Apples    1-2 days     NaN   SHELF\n",
       "1     FRUIT      Apricots  Until ripe     NaN   SHELF\n",
       "2     FRUIT      Avocados  Until ripe     NaN   SHELF\n",
       "3     FRUIT       Bananas  Until ripe     NaN   SHELF\n",
       "4     FRUIT  Citrus Fruit     10 days     NaN   SHELF"
      ]
     },
     "execution_count": 22,
     "metadata": {},
     "output_type": "execute_result"
    }
   ],
   "source": [
    "data.head()"
   ]
  },
  {
   "cell_type": "code",
   "execution_count": 23,
   "id": "acaafd38",
   "metadata": {},
   "outputs": [
    {
     "data": {
      "text/plain": [
       "FOOD TYPE     23\n",
       "ITEM         300\n",
       "PERIOD        88\n",
       "DETAILS       21\n",
       "STORAGE        4\n",
       "dtype: int64"
      ]
     },
     "execution_count": 23,
     "metadata": {},
     "output_type": "execute_result"
    }
   ],
   "source": [
    "data.nunique()"
   ]
  },
  {
   "cell_type": "code",
   "execution_count": 24,
   "id": "daf1ac03",
   "metadata": {},
   "outputs": [
    {
     "data": {
      "text/plain": [
       "REFRIGERATED    472\n",
       "SHELF           456\n",
       "FROZEN          390\n",
       "THAWED           40\n",
       "Name: STORAGE, dtype: int64"
      ]
     },
     "execution_count": 24,
     "metadata": {},
     "output_type": "execute_result"
    }
   ],
   "source": [
    "data['STORAGE'].value_counts()"
   ]
  },
  {
   "cell_type": "code",
   "execution_count": 25,
   "id": "53e536ad",
   "metadata": {},
   "outputs": [
    {
     "data": {
      "text/plain": [
       "opened                          270\n",
       "unopened                        236\n",
       "Do not freeze                    68\n",
       "fresh                             4\n",
       "Do not defrost. Cook frozen.      4\n",
       "Whole peeled                      2\n",
       "After baking                      2\n",
       "Cooked and mashed                 2\n",
       "Sliced, lemon juice & sugar       2\n",
       "Balls                             2\n",
       "Whole                             2\n",
       "Shredded                          2\n",
       "Cooked                            2\n",
       "skin will blacken                 2\n",
       "vacuum pkg                        2\n",
       "Use all                           2\n",
       "popped                            2\n",
       "Cool, dark place                  2\n",
       "Mix entire packet                 2\n",
       "Use entire can                    2\n",
       "G                                 2\n",
       "Name: DETAILS, dtype: int64"
      ]
     },
     "execution_count": 25,
     "metadata": {},
     "output_type": "execute_result"
    }
   ],
   "source": [
    "data['DETAILS'].value_counts()"
   ]
  },
  {
   "cell_type": "code",
   "execution_count": 26,
   "id": "d1f0e3b7",
   "metadata": {},
   "outputs": [
    {
     "data": {
      "text/plain": [
       "1-2 days             90\n",
       "12 months            90\n",
       "3-4 days             80\n",
       "6 months             76\n",
       "1 week               74\n",
       "                     ..\n",
       "3-5 weeks             2\n",
       "1 week after date     2\n",
       "7-21 days             2\n",
       "Do not freeze         2\n",
       "8-12 days             2\n",
       "Name: PERIOD, Length: 88, dtype: int64"
      ]
     },
     "execution_count": 26,
     "metadata": {},
     "output_type": "execute_result"
    }
   ],
   "source": [
    "data['PERIOD'].value_counts()"
   ]
  },
  {
   "cell_type": "code",
   "execution_count": 27,
   "id": "09cd96d0",
   "metadata": {},
   "outputs": [
    {
     "data": {
      "text/plain": [
       "Pudding                                   12\n",
       "Crackers                                   8\n",
       "Lobster tails                              8\n",
       "Coffee, non-vacuum bag ground, in cans     8\n",
       "Coffee, instant, jars and tins             8\n",
       "                                          ..\n",
       "Toaster pastries, non-fruit fillings       2\n",
       "Toaster pastries, fruit filled             2\n",
       "Sugar, brown                               2\n",
       "Sugar, granulated                          2\n",
       "Pies, chiffon                              2\n",
       "Name: ITEM, Length: 300, dtype: int64"
      ]
     },
     "execution_count": 27,
     "metadata": {},
     "output_type": "execute_result"
    }
   ],
   "source": [
    "data['ITEM'].value_counts()"
   ]
  },
  {
   "cell_type": "code",
   "execution_count": 28,
   "id": "02bf43e4",
   "metadata": {},
   "outputs": [
    {
     "data": {
      "text/plain": [
       "SHELF_ITEM           342\n",
       "VEGETABLES           160\n",
       "BAKERY               138\n",
       "DIARY                112\n",
       "FROZEN_ITEM           84\n",
       "FRUIT                 76\n",
       "DELI_ITEM             64\n",
       "BAKING                58\n",
       "PROCESSED_MEAT        52\n",
       "CONDIMENTS            46\n",
       "SHELLFISH             38\n",
       "SOY                   36\n",
       "PROCESSED_POULTRY     32\n",
       "FISH                  28\n",
       "FRESH_MEAT            16\n",
       "FRESH_POULTRY         16\n",
       "SMOKEDFISH            14\n",
       "DOUGH                 14\n",
       "CRACKERS               8\n",
       "BEVERAGES              6\n",
       "COOKIES                6\n",
       "PASTA                  6\n",
       "PESTO                  6\n",
       "Name: FOOD TYPE, dtype: int64"
      ]
     },
     "execution_count": 28,
     "metadata": {},
     "output_type": "execute_result"
    }
   ],
   "source": [
    "data['FOOD TYPE'].value_counts()"
   ]
  },
  {
   "cell_type": "code",
   "execution_count": 29,
   "id": "fed30fbc",
   "metadata": {},
   "outputs": [
    {
     "data": {
      "text/html": [
       "<div>\n",
       "<style scoped>\n",
       "    .dataframe tbody tr th:only-of-type {\n",
       "        vertical-align: middle;\n",
       "    }\n",
       "\n",
       "    .dataframe tbody tr th {\n",
       "        vertical-align: top;\n",
       "    }\n",
       "\n",
       "    .dataframe thead th {\n",
       "        text-align: right;\n",
       "    }\n",
       "</style>\n",
       "<table border=\"1\" class=\"dataframe\">\n",
       "  <thead>\n",
       "    <tr style=\"text-align: right;\">\n",
       "      <th></th>\n",
       "      <th>FOOD TYPE</th>\n",
       "      <th>ITEM</th>\n",
       "      <th>PERIOD</th>\n",
       "      <th>DETAILS</th>\n",
       "      <th>STORAGE</th>\n",
       "    </tr>\n",
       "  </thead>\n",
       "  <tbody>\n",
       "    <tr>\n",
       "      <th>0</th>\n",
       "      <td>FRUIT</td>\n",
       "      <td>Apples</td>\n",
       "      <td>1-2 days</td>\n",
       "      <td>NaN</td>\n",
       "      <td>SHELF</td>\n",
       "    </tr>\n",
       "    <tr>\n",
       "      <th>1</th>\n",
       "      <td>FRUIT</td>\n",
       "      <td>Apricots</td>\n",
       "      <td>Until ripe</td>\n",
       "      <td>NaN</td>\n",
       "      <td>SHELF</td>\n",
       "    </tr>\n",
       "    <tr>\n",
       "      <th>2</th>\n",
       "      <td>FRUIT</td>\n",
       "      <td>Avocados</td>\n",
       "      <td>Until ripe</td>\n",
       "      <td>NaN</td>\n",
       "      <td>SHELF</td>\n",
       "    </tr>\n",
       "    <tr>\n",
       "      <th>3</th>\n",
       "      <td>FRUIT</td>\n",
       "      <td>Bananas</td>\n",
       "      <td>Until ripe</td>\n",
       "      <td>NaN</td>\n",
       "      <td>SHELF</td>\n",
       "    </tr>\n",
       "    <tr>\n",
       "      <th>4</th>\n",
       "      <td>FRUIT</td>\n",
       "      <td>Citrus Fruit</td>\n",
       "      <td>10 days</td>\n",
       "      <td>NaN</td>\n",
       "      <td>SHELF</td>\n",
       "    </tr>\n",
       "  </tbody>\n",
       "</table>\n",
       "</div>"
      ],
      "text/plain": [
       "  FOOD TYPE          ITEM      PERIOD DETAILS STORAGE\n",
       "0     FRUIT        Apples    1-2 days     NaN   SHELF\n",
       "1     FRUIT      Apricots  Until ripe     NaN   SHELF\n",
       "2     FRUIT      Avocados  Until ripe     NaN   SHELF\n",
       "3     FRUIT       Bananas  Until ripe     NaN   SHELF\n",
       "4     FRUIT  Citrus Fruit     10 days     NaN   SHELF"
      ]
     },
     "execution_count": 29,
     "metadata": {},
     "output_type": "execute_result"
    }
   ],
   "source": [
    "data.head()"
   ]
  },
  {
   "cell_type": "code",
   "execution_count": 30,
   "id": "78cbaa4f",
   "metadata": {},
   "outputs": [],
   "source": [
    "missing_details = (data['DETAILS'].isnull()).sum()"
   ]
  },
  {
   "cell_type": "code",
   "execution_count": 31,
   "id": "7dd01f92",
   "metadata": {},
   "outputs": [],
   "source": [
    "\n",
    "data['DETAILS'].fillna('no_details',inplace = True)\n"
   ]
  },
  {
   "cell_type": "code",
   "execution_count": 32,
   "id": "64ded39c",
   "metadata": {},
   "outputs": [
    {
     "data": {
      "text/html": [
       "<div>\n",
       "<style scoped>\n",
       "    .dataframe tbody tr th:only-of-type {\n",
       "        vertical-align: middle;\n",
       "    }\n",
       "\n",
       "    .dataframe tbody tr th {\n",
       "        vertical-align: top;\n",
       "    }\n",
       "\n",
       "    .dataframe thead th {\n",
       "        text-align: right;\n",
       "    }\n",
       "</style>\n",
       "<table border=\"1\" class=\"dataframe\">\n",
       "  <thead>\n",
       "    <tr style=\"text-align: right;\">\n",
       "      <th></th>\n",
       "      <th>FOOD TYPE</th>\n",
       "      <th>ITEM</th>\n",
       "      <th>PERIOD</th>\n",
       "      <th>DETAILS</th>\n",
       "      <th>STORAGE</th>\n",
       "    </tr>\n",
       "  </thead>\n",
       "  <tbody>\n",
       "    <tr>\n",
       "      <th>0</th>\n",
       "      <td>FRUIT</td>\n",
       "      <td>Apples</td>\n",
       "      <td>1-2 days</td>\n",
       "      <td>no_details</td>\n",
       "      <td>SHELF</td>\n",
       "    </tr>\n",
       "    <tr>\n",
       "      <th>1</th>\n",
       "      <td>FRUIT</td>\n",
       "      <td>Apricots</td>\n",
       "      <td>Until ripe</td>\n",
       "      <td>no_details</td>\n",
       "      <td>SHELF</td>\n",
       "    </tr>\n",
       "    <tr>\n",
       "      <th>2</th>\n",
       "      <td>FRUIT</td>\n",
       "      <td>Avocados</td>\n",
       "      <td>Until ripe</td>\n",
       "      <td>no_details</td>\n",
       "      <td>SHELF</td>\n",
       "    </tr>\n",
       "    <tr>\n",
       "      <th>3</th>\n",
       "      <td>FRUIT</td>\n",
       "      <td>Bananas</td>\n",
       "      <td>Until ripe</td>\n",
       "      <td>no_details</td>\n",
       "      <td>SHELF</td>\n",
       "    </tr>\n",
       "    <tr>\n",
       "      <th>4</th>\n",
       "      <td>FRUIT</td>\n",
       "      <td>Citrus Fruit</td>\n",
       "      <td>10 days</td>\n",
       "      <td>no_details</td>\n",
       "      <td>SHELF</td>\n",
       "    </tr>\n",
       "  </tbody>\n",
       "</table>\n",
       "</div>"
      ],
      "text/plain": [
       "  FOOD TYPE          ITEM      PERIOD     DETAILS STORAGE\n",
       "0     FRUIT        Apples    1-2 days  no_details   SHELF\n",
       "1     FRUIT      Apricots  Until ripe  no_details   SHELF\n",
       "2     FRUIT      Avocados  Until ripe  no_details   SHELF\n",
       "3     FRUIT       Bananas  Until ripe  no_details   SHELF\n",
       "4     FRUIT  Citrus Fruit     10 days  no_details   SHELF"
      ]
     },
     "execution_count": 32,
     "metadata": {},
     "output_type": "execute_result"
    }
   ],
   "source": [
    "data.head()"
   ]
  },
  {
   "cell_type": "code",
   "execution_count": 33,
   "id": "3f2c8044",
   "metadata": {},
   "outputs": [],
   "source": [
    "data['PERIOD'].fillna('1-2 days',inplace = True)"
   ]
  },
  {
   "cell_type": "code",
   "execution_count": 34,
   "id": "92a8a064",
   "metadata": {},
   "outputs": [
    {
     "data": {
      "text/html": [
       "<div>\n",
       "<style scoped>\n",
       "    .dataframe tbody tr th:only-of-type {\n",
       "        vertical-align: middle;\n",
       "    }\n",
       "\n",
       "    .dataframe tbody tr th {\n",
       "        vertical-align: top;\n",
       "    }\n",
       "\n",
       "    .dataframe thead th {\n",
       "        text-align: right;\n",
       "    }\n",
       "</style>\n",
       "<table border=\"1\" class=\"dataframe\">\n",
       "  <thead>\n",
       "    <tr style=\"text-align: right;\">\n",
       "      <th></th>\n",
       "      <th>FOOD TYPE</th>\n",
       "      <th>ITEM</th>\n",
       "      <th>PERIOD</th>\n",
       "      <th>DETAILS</th>\n",
       "      <th>STORAGE</th>\n",
       "    </tr>\n",
       "  </thead>\n",
       "  <tbody>\n",
       "    <tr>\n",
       "      <th>0</th>\n",
       "      <td>FRUIT</td>\n",
       "      <td>Apples</td>\n",
       "      <td>1-2 days</td>\n",
       "      <td>no_details</td>\n",
       "      <td>SHELF</td>\n",
       "    </tr>\n",
       "    <tr>\n",
       "      <th>1</th>\n",
       "      <td>FRUIT</td>\n",
       "      <td>Apricots</td>\n",
       "      <td>Until ripe</td>\n",
       "      <td>no_details</td>\n",
       "      <td>SHELF</td>\n",
       "    </tr>\n",
       "    <tr>\n",
       "      <th>2</th>\n",
       "      <td>FRUIT</td>\n",
       "      <td>Avocados</td>\n",
       "      <td>Until ripe</td>\n",
       "      <td>no_details</td>\n",
       "      <td>SHELF</td>\n",
       "    </tr>\n",
       "    <tr>\n",
       "      <th>3</th>\n",
       "      <td>FRUIT</td>\n",
       "      <td>Bananas</td>\n",
       "      <td>Until ripe</td>\n",
       "      <td>no_details</td>\n",
       "      <td>SHELF</td>\n",
       "    </tr>\n",
       "    <tr>\n",
       "      <th>4</th>\n",
       "      <td>FRUIT</td>\n",
       "      <td>Citrus Fruit</td>\n",
       "      <td>10 days</td>\n",
       "      <td>no_details</td>\n",
       "      <td>SHELF</td>\n",
       "    </tr>\n",
       "  </tbody>\n",
       "</table>\n",
       "</div>"
      ],
      "text/plain": [
       "  FOOD TYPE          ITEM      PERIOD     DETAILS STORAGE\n",
       "0     FRUIT        Apples    1-2 days  no_details   SHELF\n",
       "1     FRUIT      Apricots  Until ripe  no_details   SHELF\n",
       "2     FRUIT      Avocados  Until ripe  no_details   SHELF\n",
       "3     FRUIT       Bananas  Until ripe  no_details   SHELF\n",
       "4     FRUIT  Citrus Fruit     10 days  no_details   SHELF"
      ]
     },
     "execution_count": 34,
     "metadata": {},
     "output_type": "execute_result"
    }
   ],
   "source": [
    "data.head()"
   ]
  },
  {
   "cell_type": "code",
   "execution_count": 35,
   "id": "896006f1",
   "metadata": {},
   "outputs": [
    {
     "data": {
      "text/plain": [
       "FOOD TYPE    0\n",
       "ITEM         0\n",
       "PERIOD       0\n",
       "DETAILS      0\n",
       "STORAGE      0\n",
       "dtype: int64"
      ]
     },
     "execution_count": 35,
     "metadata": {},
     "output_type": "execute_result"
    }
   ],
   "source": [
    "data.isnull().sum()"
   ]
  },
  {
   "cell_type": "code",
   "execution_count": 36,
   "id": "4b9d311f",
   "metadata": {},
   "outputs": [
    {
     "data": {
      "text/html": [
       "<div>\n",
       "<style scoped>\n",
       "    .dataframe tbody tr th:only-of-type {\n",
       "        vertical-align: middle;\n",
       "    }\n",
       "\n",
       "    .dataframe tbody tr th {\n",
       "        vertical-align: top;\n",
       "    }\n",
       "\n",
       "    .dataframe thead th {\n",
       "        text-align: right;\n",
       "    }\n",
       "</style>\n",
       "<table border=\"1\" class=\"dataframe\">\n",
       "  <thead>\n",
       "    <tr style=\"text-align: right;\">\n",
       "      <th></th>\n",
       "      <th>FOOD TYPE</th>\n",
       "      <th>ITEM</th>\n",
       "      <th>STORAGE</th>\n",
       "    </tr>\n",
       "  </thead>\n",
       "  <tbody>\n",
       "    <tr>\n",
       "      <th>0</th>\n",
       "      <td>FRUIT</td>\n",
       "      <td>Apples</td>\n",
       "      <td>SHELF</td>\n",
       "    </tr>\n",
       "    <tr>\n",
       "      <th>1</th>\n",
       "      <td>FRUIT</td>\n",
       "      <td>Apricots</td>\n",
       "      <td>SHELF</td>\n",
       "    </tr>\n",
       "    <tr>\n",
       "      <th>2</th>\n",
       "      <td>FRUIT</td>\n",
       "      <td>Avocados</td>\n",
       "      <td>SHELF</td>\n",
       "    </tr>\n",
       "    <tr>\n",
       "      <th>3</th>\n",
       "      <td>FRUIT</td>\n",
       "      <td>Bananas</td>\n",
       "      <td>SHELF</td>\n",
       "    </tr>\n",
       "    <tr>\n",
       "      <th>4</th>\n",
       "      <td>FRUIT</td>\n",
       "      <td>Citrus Fruit</td>\n",
       "      <td>SHELF</td>\n",
       "    </tr>\n",
       "    <tr>\n",
       "      <th>...</th>\n",
       "      <td>...</td>\n",
       "      <td>...</td>\n",
       "      <td>...</td>\n",
       "    </tr>\n",
       "    <tr>\n",
       "      <th>674</th>\n",
       "      <td>BAKERY</td>\n",
       "      <td>Rolls, yeast, partially baked</td>\n",
       "      <td>FROZEN</td>\n",
       "    </tr>\n",
       "    <tr>\n",
       "      <th>675</th>\n",
       "      <td>BAKERY</td>\n",
       "      <td>Rolls, filled, meat or vegetables</td>\n",
       "      <td>SHELF</td>\n",
       "    </tr>\n",
       "    <tr>\n",
       "      <th>676</th>\n",
       "      <td>BAKERY</td>\n",
       "      <td>Rolls, filled, meat or vegetables</td>\n",
       "      <td>REFRIGERATED</td>\n",
       "    </tr>\n",
       "    <tr>\n",
       "      <th>677</th>\n",
       "      <td>BAKERY</td>\n",
       "      <td>Rolls, filled, meat or vegetables</td>\n",
       "      <td>FROZEN</td>\n",
       "    </tr>\n",
       "    <tr>\n",
       "      <th>678</th>\n",
       "      <td>BAKERY</td>\n",
       "      <td>Doughnuts, glazed or cake</td>\n",
       "      <td>REFRIGERATED</td>\n",
       "    </tr>\n",
       "  </tbody>\n",
       "</table>\n",
       "<p>1358 rows × 3 columns</p>\n",
       "</div>"
      ],
      "text/plain": [
       "    FOOD TYPE                               ITEM       STORAGE\n",
       "0       FRUIT                             Apples         SHELF\n",
       "1       FRUIT                           Apricots         SHELF\n",
       "2       FRUIT                           Avocados         SHELF\n",
       "3       FRUIT                            Bananas         SHELF\n",
       "4       FRUIT                       Citrus Fruit         SHELF\n",
       "..        ...                                ...           ...\n",
       "674    BAKERY      Rolls, yeast, partially baked        FROZEN\n",
       "675    BAKERY  Rolls, filled, meat or vegetables         SHELF\n",
       "676    BAKERY  Rolls, filled, meat or vegetables  REFRIGERATED\n",
       "677    BAKERY  Rolls, filled, meat or vegetables        FROZEN\n",
       "678    BAKERY          Doughnuts, glazed or cake  REFRIGERATED\n",
       "\n",
       "[1358 rows x 3 columns]"
      ]
     },
     "execution_count": 36,
     "metadata": {},
     "output_type": "execute_result"
    }
   ],
   "source": [
    "data[['FOOD TYPE','ITEM','STORAGE']]"
   ]
  },
  {
   "cell_type": "code",
   "execution_count": 37,
   "id": "e492bf42",
   "metadata": {},
   "outputs": [
    {
     "data": {
      "text/html": [
       "<div>\n",
       "<style scoped>\n",
       "    .dataframe tbody tr th:only-of-type {\n",
       "        vertical-align: middle;\n",
       "    }\n",
       "\n",
       "    .dataframe tbody tr th {\n",
       "        vertical-align: top;\n",
       "    }\n",
       "\n",
       "    .dataframe thead th {\n",
       "        text-align: right;\n",
       "    }\n",
       "</style>\n",
       "<table border=\"1\" class=\"dataframe\">\n",
       "  <thead>\n",
       "    <tr style=\"text-align: right;\">\n",
       "      <th></th>\n",
       "      <th>FOOD TYPE</th>\n",
       "      <th>ITEM</th>\n",
       "      <th>PERIOD</th>\n",
       "      <th>DETAILS</th>\n",
       "      <th>STORAGE</th>\n",
       "    </tr>\n",
       "  </thead>\n",
       "  <tbody>\n",
       "    <tr>\n",
       "      <th>0</th>\n",
       "      <td>FRUIT</td>\n",
       "      <td>Apples</td>\n",
       "      <td>1-2 days</td>\n",
       "      <td>no_details</td>\n",
       "      <td>SHELF</td>\n",
       "    </tr>\n",
       "    <tr>\n",
       "      <th>1</th>\n",
       "      <td>FRUIT</td>\n",
       "      <td>Apricots</td>\n",
       "      <td>Until ripe</td>\n",
       "      <td>no_details</td>\n",
       "      <td>SHELF</td>\n",
       "    </tr>\n",
       "    <tr>\n",
       "      <th>2</th>\n",
       "      <td>FRUIT</td>\n",
       "      <td>Avocados</td>\n",
       "      <td>Until ripe</td>\n",
       "      <td>no_details</td>\n",
       "      <td>SHELF</td>\n",
       "    </tr>\n",
       "    <tr>\n",
       "      <th>3</th>\n",
       "      <td>FRUIT</td>\n",
       "      <td>Bananas</td>\n",
       "      <td>Until ripe</td>\n",
       "      <td>no_details</td>\n",
       "      <td>SHELF</td>\n",
       "    </tr>\n",
       "    <tr>\n",
       "      <th>4</th>\n",
       "      <td>FRUIT</td>\n",
       "      <td>Citrus Fruit</td>\n",
       "      <td>10 days</td>\n",
       "      <td>no_details</td>\n",
       "      <td>SHELF</td>\n",
       "    </tr>\n",
       "  </tbody>\n",
       "</table>\n",
       "</div>"
      ],
      "text/plain": [
       "  FOOD TYPE          ITEM      PERIOD     DETAILS STORAGE\n",
       "0     FRUIT        Apples    1-2 days  no_details   SHELF\n",
       "1     FRUIT      Apricots  Until ripe  no_details   SHELF\n",
       "2     FRUIT      Avocados  Until ripe  no_details   SHELF\n",
       "3     FRUIT       Bananas  Until ripe  no_details   SHELF\n",
       "4     FRUIT  Citrus Fruit     10 days  no_details   SHELF"
      ]
     },
     "execution_count": 37,
     "metadata": {},
     "output_type": "execute_result"
    }
   ],
   "source": [
    "d =data.iloc[0:5,0:5]\n",
    "d"
   ]
  },
  {
   "cell_type": "code",
   "execution_count": 38,
   "id": "d56fa150",
   "metadata": {},
   "outputs": [],
   "source": [
    "d1 = (data['DETAILS'] == 'opened') & (data['STORAGE']== 'SHELF')"
   ]
  },
  {
   "cell_type": "code",
   "execution_count": 39,
   "id": "cb71054b",
   "metadata": {},
   "outputs": [
    {
     "data": {
      "text/html": [
       "<div>\n",
       "<style scoped>\n",
       "    .dataframe tbody tr th:only-of-type {\n",
       "        vertical-align: middle;\n",
       "    }\n",
       "\n",
       "    .dataframe tbody tr th {\n",
       "        vertical-align: top;\n",
       "    }\n",
       "\n",
       "    .dataframe thead th {\n",
       "        text-align: right;\n",
       "    }\n",
       "</style>\n",
       "<table border=\"1\" class=\"dataframe\">\n",
       "  <thead>\n",
       "    <tr style=\"text-align: right;\">\n",
       "      <th></th>\n",
       "      <th>FOOD TYPE</th>\n",
       "      <th>ITEM</th>\n",
       "      <th>PERIOD</th>\n",
       "      <th>DETAILS</th>\n",
       "      <th>STORAGE</th>\n",
       "    </tr>\n",
       "  </thead>\n",
       "  <tbody>\n",
       "    <tr>\n",
       "      <th>0</th>\n",
       "      <td>FRUIT</td>\n",
       "      <td>Apples</td>\n",
       "      <td>1-2 days</td>\n",
       "      <td>no_details</td>\n",
       "      <td>SHELF</td>\n",
       "    </tr>\n",
       "    <tr>\n",
       "      <th>1</th>\n",
       "      <td>FRUIT</td>\n",
       "      <td>Apricots</td>\n",
       "      <td>Until ripe</td>\n",
       "      <td>no_details</td>\n",
       "      <td>SHELF</td>\n",
       "    </tr>\n",
       "    <tr>\n",
       "      <th>2</th>\n",
       "      <td>FRUIT</td>\n",
       "      <td>Avocados</td>\n",
       "      <td>Until ripe</td>\n",
       "      <td>no_details</td>\n",
       "      <td>SHELF</td>\n",
       "    </tr>\n",
       "    <tr>\n",
       "      <th>3</th>\n",
       "      <td>FRUIT</td>\n",
       "      <td>Bananas</td>\n",
       "      <td>Until ripe</td>\n",
       "      <td>no_details</td>\n",
       "      <td>SHELF</td>\n",
       "    </tr>\n",
       "    <tr>\n",
       "      <th>4</th>\n",
       "      <td>FRUIT</td>\n",
       "      <td>Citrus Fruit</td>\n",
       "      <td>10 days</td>\n",
       "      <td>no_details</td>\n",
       "      <td>SHELF</td>\n",
       "    </tr>\n",
       "    <tr>\n",
       "      <th>...</th>\n",
       "      <td>...</td>\n",
       "      <td>...</td>\n",
       "      <td>...</td>\n",
       "      <td>...</td>\n",
       "      <td>...</td>\n",
       "    </tr>\n",
       "    <tr>\n",
       "      <th>674</th>\n",
       "      <td>BAKERY</td>\n",
       "      <td>Rolls, yeast, partially baked</td>\n",
       "      <td>2 months</td>\n",
       "      <td>no_details</td>\n",
       "      <td>FROZEN</td>\n",
       "    </tr>\n",
       "    <tr>\n",
       "      <th>675</th>\n",
       "      <td>BAKERY</td>\n",
       "      <td>Rolls, filled, meat or vegetables</td>\n",
       "      <td>2 hours</td>\n",
       "      <td>no_details</td>\n",
       "      <td>SHELF</td>\n",
       "    </tr>\n",
       "    <tr>\n",
       "      <th>676</th>\n",
       "      <td>BAKERY</td>\n",
       "      <td>Rolls, filled, meat or vegetables</td>\n",
       "      <td>3-4 days</td>\n",
       "      <td>no_details</td>\n",
       "      <td>REFRIGERATED</td>\n",
       "    </tr>\n",
       "    <tr>\n",
       "      <th>677</th>\n",
       "      <td>BAKERY</td>\n",
       "      <td>Rolls, filled, meat or vegetables</td>\n",
       "      <td>2 months</td>\n",
       "      <td>no_details</td>\n",
       "      <td>FROZEN</td>\n",
       "    </tr>\n",
       "    <tr>\n",
       "      <th>678</th>\n",
       "      <td>BAKERY</td>\n",
       "      <td>Doughnuts, glazed or cake</td>\n",
       "      <td>1 week</td>\n",
       "      <td>G</td>\n",
       "      <td>REFRIGERATED</td>\n",
       "    </tr>\n",
       "  </tbody>\n",
       "</table>\n",
       "<p>1358 rows × 5 columns</p>\n",
       "</div>"
      ],
      "text/plain": [
       "    FOOD TYPE                               ITEM      PERIOD     DETAILS  \\\n",
       "0       FRUIT                             Apples    1-2 days  no_details   \n",
       "1       FRUIT                           Apricots  Until ripe  no_details   \n",
       "2       FRUIT                           Avocados  Until ripe  no_details   \n",
       "3       FRUIT                            Bananas  Until ripe  no_details   \n",
       "4       FRUIT                       Citrus Fruit     10 days  no_details   \n",
       "..        ...                                ...         ...         ...   \n",
       "674    BAKERY      Rolls, yeast, partially baked    2 months  no_details   \n",
       "675    BAKERY  Rolls, filled, meat or vegetables     2 hours  no_details   \n",
       "676    BAKERY  Rolls, filled, meat or vegetables    3-4 days  no_details   \n",
       "677    BAKERY  Rolls, filled, meat or vegetables    2 months  no_details   \n",
       "678    BAKERY          Doughnuts, glazed or cake      1 week           G   \n",
       "\n",
       "          STORAGE  \n",
       "0           SHELF  \n",
       "1           SHELF  \n",
       "2           SHELF  \n",
       "3           SHELF  \n",
       "4           SHELF  \n",
       "..            ...  \n",
       "674        FROZEN  \n",
       "675         SHELF  \n",
       "676  REFRIGERATED  \n",
       "677        FROZEN  \n",
       "678  REFRIGERATED  \n",
       "\n",
       "[1358 rows x 5 columns]"
      ]
     },
     "execution_count": 39,
     "metadata": {},
     "output_type": "execute_result"
    }
   ],
   "source": [
    "data"
   ]
  },
  {
   "cell_type": "code",
   "execution_count": 40,
   "id": "a0feba74",
   "metadata": {},
   "outputs": [
    {
     "data": {
      "text/plain": [
       "1358"
      ]
     },
     "execution_count": 40,
     "metadata": {},
     "output_type": "execute_result"
    }
   ],
   "source": [
    "d1 = ((data['DETAILS'] == 'unopened') & (data['STORAGE']== 'FROZEN'))\n",
    "d1.count()"
   ]
  }
 ],
 "metadata": {
  "kernelspec": {
   "display_name": "Python 3.9.5 64-bit",
   "language": "python",
   "name": "python395jvsc74a57bd031f2aee4e71d21fbe5cf8b01ff0e069b9275f58929596ceb00d14d90e3e16cd6"
  },
  "language_info": {
   "codemirror_mode": {
    "name": "ipython",
    "version": 3
   },
   "file_extension": ".py",
   "mimetype": "text/x-python",
   "name": "python",
   "nbconvert_exporter": "python",
   "pygments_lexer": "ipython3",
   "version": "3.9.5"
  }
 },
 "nbformat": 4,
 "nbformat_minor": 5
}
