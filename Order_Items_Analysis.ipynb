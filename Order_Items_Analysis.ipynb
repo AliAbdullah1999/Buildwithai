{
 "cells": [
  {
   "cell_type": "code",
   "execution_count": 1,
   "id": "d8b81ff9",
   "metadata": {},
   "outputs": [],
   "source": [
    "import pandas as pd\n",
    "import numpy as np\n",
    "import matplotlib.pyplot as plt\n",
    "from pandas.plotting import scatter_matrix"
   ]
  },
  {
   "cell_type": "code",
   "execution_count": 2,
   "id": "f11a8cac",
   "metadata": {},
   "outputs": [
    {
     "data": {
      "text/html": [
       "<div>\n",
       "<style scoped>\n",
       "    .dataframe tbody tr th:only-of-type {\n",
       "        vertical-align: middle;\n",
       "    }\n",
       "\n",
       "    .dataframe tbody tr th {\n",
       "        vertical-align: top;\n",
       "    }\n",
       "\n",
       "    .dataframe thead th {\n",
       "        text-align: right;\n",
       "    }\n",
       "</style>\n",
       "<table border=\"1\" class=\"dataframe\">\n",
       "  <thead>\n",
       "    <tr style=\"text-align: right;\">\n",
       "      <th></th>\n",
       "      <th>OrderId</th>\n",
       "      <th>OrderItemId</th>\n",
       "      <th>ProductType</th>\n",
       "      <th>ProductItem</th>\n",
       "      <th>ProductPeriod</th>\n",
       "      <th>ProductDetails</th>\n",
       "      <th>ProductStorage</th>\n",
       "      <th>Quantity</th>\n",
       "    </tr>\n",
       "  </thead>\n",
       "  <tbody>\n",
       "    <tr>\n",
       "      <th>0</th>\n",
       "      <td>20051</td>\n",
       "      <td>1</td>\n",
       "      <td>DIARY</td>\n",
       "      <td>Cheese, processed slices</td>\n",
       "      <td>1-2 months</td>\n",
       "      <td>NaN</td>\n",
       "      <td>REFRIGERATED</td>\n",
       "      <td>105</td>\n",
       "    </tr>\n",
       "    <tr>\n",
       "      <th>1</th>\n",
       "      <td>20051</td>\n",
       "      <td>2</td>\n",
       "      <td>DIARY</td>\n",
       "      <td>Eggs, in shell</td>\n",
       "      <td>3-5 weeks</td>\n",
       "      <td>NaN</td>\n",
       "      <td>REFRIGERATED</td>\n",
       "      <td>120</td>\n",
       "    </tr>\n",
       "    <tr>\n",
       "      <th>2</th>\n",
       "      <td>20051</td>\n",
       "      <td>3</td>\n",
       "      <td>DIARY</td>\n",
       "      <td>Margarine</td>\n",
       "      <td>12 months</td>\n",
       "      <td>NaN</td>\n",
       "      <td>FROZEN</td>\n",
       "      <td>140</td>\n",
       "    </tr>\n",
       "    <tr>\n",
       "      <th>3</th>\n",
       "      <td>20051</td>\n",
       "      <td>4</td>\n",
       "      <td>DIARY</td>\n",
       "      <td>Milk, plain or flavored</td>\n",
       "      <td>1 week</td>\n",
       "      <td>NaN</td>\n",
       "      <td>REFRIGERATED</td>\n",
       "      <td>135</td>\n",
       "    </tr>\n",
       "    <tr>\n",
       "      <th>4</th>\n",
       "      <td>20051</td>\n",
       "      <td>5</td>\n",
       "      <td>SOY</td>\n",
       "      <td>Tofu</td>\n",
       "      <td>1 week</td>\n",
       "      <td>NaN</td>\n",
       "      <td>REFRIGERATED</td>\n",
       "      <td>145</td>\n",
       "    </tr>\n",
       "  </tbody>\n",
       "</table>\n",
       "</div>"
      ],
      "text/plain": [
       "   OrderId  OrderItemId ProductType               ProductItem ProductPeriod  \\\n",
       "0    20051            1       DIARY  Cheese, processed slices    1-2 months   \n",
       "1    20051            2       DIARY            Eggs, in shell     3-5 weeks   \n",
       "2    20051            3       DIARY                 Margarine     12 months   \n",
       "3    20051            4       DIARY   Milk, plain or flavored        1 week   \n",
       "4    20051            5         SOY                      Tofu        1 week   \n",
       "\n",
       "  ProductDetails ProductStorage  Quantity  \n",
       "0            NaN   REFRIGERATED       105  \n",
       "1            NaN   REFRIGERATED       120  \n",
       "2            NaN         FROZEN       140  \n",
       "3            NaN   REFRIGERATED       135  \n",
       "4            NaN   REFRIGERATED       145  "
      ]
     },
     "execution_count": 2,
     "metadata": {},
     "output_type": "execute_result"
    }
   ],
   "source": [
    "df = pd.read_csv('orderItemsDonations.csv')\n",
    "df.head()"
   ]
  },
  {
   "cell_type": "code",
   "execution_count": 3,
   "id": "65680cdb",
   "metadata": {},
   "outputs": [
    {
     "data": {
      "text/html": [
       "<div>\n",
       "<style scoped>\n",
       "    .dataframe tbody tr th:only-of-type {\n",
       "        vertical-align: middle;\n",
       "    }\n",
       "\n",
       "    .dataframe tbody tr th {\n",
       "        vertical-align: top;\n",
       "    }\n",
       "\n",
       "    .dataframe thead th {\n",
       "        text-align: right;\n",
       "    }\n",
       "</style>\n",
       "<table border=\"1\" class=\"dataframe\">\n",
       "  <thead>\n",
       "    <tr style=\"text-align: right;\">\n",
       "      <th></th>\n",
       "      <th>OrderId</th>\n",
       "      <th>OrderItemId</th>\n",
       "      <th>ProductType</th>\n",
       "      <th>ProductItem</th>\n",
       "      <th>ProductPeriod</th>\n",
       "      <th>ProductDetails</th>\n",
       "      <th>ProductStorage</th>\n",
       "      <th>Quantity</th>\n",
       "    </tr>\n",
       "  </thead>\n",
       "  <tbody>\n",
       "    <tr>\n",
       "      <th>9215</th>\n",
       "      <td>20139</td>\n",
       "      <td>35</td>\n",
       "      <td>SHELLFISH</td>\n",
       "      <td>Shucked clams, mussels and oysters</td>\n",
       "      <td>3-4 months</td>\n",
       "      <td>NaN</td>\n",
       "      <td>FROZEN</td>\n",
       "      <td>150</td>\n",
       "    </tr>\n",
       "    <tr>\n",
       "      <th>9216</th>\n",
       "      <td>20139</td>\n",
       "      <td>36</td>\n",
       "      <td>SHELF_ITEM</td>\n",
       "      <td>Milk, canned evaporated</td>\n",
       "      <td>4-5 days</td>\n",
       "      <td>opened</td>\n",
       "      <td>REFRIGERATED</td>\n",
       "      <td>168</td>\n",
       "    </tr>\n",
       "    <tr>\n",
       "      <th>9217</th>\n",
       "      <td>20139</td>\n",
       "      <td>37</td>\n",
       "      <td>PESTO</td>\n",
       "      <td>Pesto or Sala</td>\n",
       "      <td>package date</td>\n",
       "      <td>unopened</td>\n",
       "      <td>REFRIGERATED</td>\n",
       "      <td>120</td>\n",
       "    </tr>\n",
       "    <tr>\n",
       "      <th>9218</th>\n",
       "      <td>20139</td>\n",
       "      <td>38</td>\n",
       "      <td>BAKERY</td>\n",
       "      <td>Rolls, yeast, baked</td>\n",
       "      <td>1 week</td>\n",
       "      <td>NaN</td>\n",
       "      <td>REFRIGERATED</td>\n",
       "      <td>168</td>\n",
       "    </tr>\n",
       "    <tr>\n",
       "      <th>9219</th>\n",
       "      <td>20139</td>\n",
       "      <td>39</td>\n",
       "      <td>PROCESSED_MEAT</td>\n",
       "      <td>Lunch meats, after opening</td>\n",
       "      <td>3-5 days</td>\n",
       "      <td>NaN</td>\n",
       "      <td>REFRIGERATED</td>\n",
       "      <td>168</td>\n",
       "    </tr>\n",
       "  </tbody>\n",
       "</table>\n",
       "</div>"
      ],
      "text/plain": [
       "      OrderId  OrderItemId     ProductType  \\\n",
       "9215    20139           35       SHELLFISH   \n",
       "9216    20139           36      SHELF_ITEM   \n",
       "9217    20139           37           PESTO   \n",
       "9218    20139           38          BAKERY   \n",
       "9219    20139           39  PROCESSED_MEAT   \n",
       "\n",
       "                             ProductItem ProductPeriod ProductDetails  \\\n",
       "9215  Shucked clams, mussels and oysters    3-4 months            NaN   \n",
       "9216             Milk, canned evaporated      4-5 days         opened   \n",
       "9217                       Pesto or Sala  package date       unopened   \n",
       "9218                 Rolls, yeast, baked        1 week            NaN   \n",
       "9219          Lunch meats, after opening      3-5 days            NaN   \n",
       "\n",
       "     ProductStorage  Quantity  \n",
       "9215         FROZEN       150  \n",
       "9216   REFRIGERATED       168  \n",
       "9217   REFRIGERATED       120  \n",
       "9218   REFRIGERATED       168  \n",
       "9219   REFRIGERATED       168  "
      ]
     },
     "execution_count": 3,
     "metadata": {},
     "output_type": "execute_result"
    }
   ],
   "source": [
    "df.tail()"
   ]
  },
  {
   "cell_type": "code",
   "execution_count": 4,
   "id": "d1a14e72",
   "metadata": {},
   "outputs": [
    {
     "data": {
      "text/plain": [
       "(9220, 8)"
      ]
     },
     "execution_count": 4,
     "metadata": {},
     "output_type": "execute_result"
    }
   ],
   "source": [
    "df.shape"
   ]
  },
  {
   "cell_type": "code",
   "execution_count": 5,
   "id": "63e7bcad",
   "metadata": {},
   "outputs": [
    {
     "data": {
      "text/plain": [
       "RangeIndex(start=0, stop=9220, step=1)"
      ]
     },
     "execution_count": 5,
     "metadata": {},
     "output_type": "execute_result"
    }
   ],
   "source": [
    "df.index"
   ]
  },
  {
   "cell_type": "code",
   "execution_count": 6,
   "id": "cd926513",
   "metadata": {},
   "outputs": [
    {
     "data": {
      "text/plain": [
       "Index(['OrderId', 'OrderItemId', 'ProductType', 'ProductItem', 'ProductPeriod',\n",
       "       'ProductDetails', 'ProductStorage', 'Quantity'],\n",
       "      dtype='object')"
      ]
     },
     "execution_count": 6,
     "metadata": {},
     "output_type": "execute_result"
    }
   ],
   "source": [
    "df.columns"
   ]
  },
  {
   "cell_type": "code",
   "execution_count": 7,
   "id": "49cbc0a6",
   "metadata": {},
   "outputs": [
    {
     "data": {
      "text/plain": [
       "array([[20051, 1, 'DIARY', ..., nan, 'REFRIGERATED', 105],\n",
       "       [20051, 2, 'DIARY', ..., nan, 'REFRIGERATED', 120],\n",
       "       [20051, 3, 'DIARY', ..., nan, 'FROZEN', 140],\n",
       "       ...,\n",
       "       [20139, 37, 'PESTO', ..., 'unopened', 'REFRIGERATED', 120],\n",
       "       [20139, 38, 'BAKERY', ..., nan, 'REFRIGERATED', 168],\n",
       "       [20139, 39, 'PROCESSED_MEAT', ..., nan, 'REFRIGERATED', 168]],\n",
       "      dtype=object)"
      ]
     },
     "execution_count": 7,
     "metadata": {},
     "output_type": "execute_result"
    }
   ],
   "source": [
    "df.values"
   ]
  },
  {
   "cell_type": "code",
   "execution_count": 8,
   "id": "2109a59b",
   "metadata": {},
   "outputs": [
    {
     "data": {
      "text/plain": [
       "OrderId            int64\n",
       "OrderItemId        int64\n",
       "ProductType       object\n",
       "ProductItem       object\n",
       "ProductPeriod     object\n",
       "ProductDetails    object\n",
       "ProductStorage    object\n",
       "Quantity           int64\n",
       "dtype: object"
      ]
     },
     "execution_count": 8,
     "metadata": {},
     "output_type": "execute_result"
    }
   ],
   "source": [
    "df.dtypes"
   ]
  },
  {
   "cell_type": "code",
   "execution_count": 9,
   "id": "23cc5e3b",
   "metadata": {},
   "outputs": [
    {
     "data": {
      "text/plain": [
       "OrderId            89\n",
       "OrderItemId        39\n",
       "ProductType        23\n",
       "ProductItem       240\n",
       "ProductPeriod      67\n",
       "ProductDetails     16\n",
       "ProductStorage      4\n",
       "Quantity           75\n",
       "dtype: int64"
      ]
     },
     "execution_count": 9,
     "metadata": {},
     "output_type": "execute_result"
    }
   ],
   "source": [
    "df.nunique()"
   ]
  },
  {
   "cell_type": "code",
   "execution_count": 10,
   "id": "687bf753",
   "metadata": {},
   "outputs": [
    {
     "data": {
      "text/plain": [
       "OrderId           9220\n",
       "OrderItemId       9220\n",
       "ProductType       9220\n",
       "ProductItem       9220\n",
       "ProductPeriod     8717\n",
       "ProductDetails    2033\n",
       "ProductStorage    9220\n",
       "Quantity          9220\n",
       "dtype: int64"
      ]
     },
     "execution_count": 10,
     "metadata": {},
     "output_type": "execute_result"
    }
   ],
   "source": [
    "df.count()"
   ]
  },
  {
   "cell_type": "code",
   "execution_count": 11,
   "id": "9a0499b9",
   "metadata": {},
   "outputs": [
    {
     "data": {
      "text/plain": [
       "OrderId              0\n",
       "OrderItemId          0\n",
       "ProductType          0\n",
       "ProductItem          0\n",
       "ProductPeriod      503\n",
       "ProductDetails    7187\n",
       "ProductStorage       0\n",
       "Quantity             0\n",
       "dtype: int64"
      ]
     },
     "execution_count": 11,
     "metadata": {},
     "output_type": "execute_result"
    }
   ],
   "source": [
    "df.isnull().sum()"
   ]
  },
  {
   "cell_type": "code",
   "execution_count": 12,
   "id": "b5abef54",
   "metadata": {},
   "outputs": [
    {
     "name": "stdout",
     "output_type": "stream",
     "text": [
      "<class 'pandas.core.frame.DataFrame'>\n",
      "RangeIndex: 9220 entries, 0 to 9219\n",
      "Data columns (total 8 columns):\n",
      " #   Column          Non-Null Count  Dtype \n",
      "---  ------          --------------  ----- \n",
      " 0   OrderId         9220 non-null   int64 \n",
      " 1   OrderItemId     9220 non-null   int64 \n",
      " 2   ProductType     9220 non-null   object\n",
      " 3   ProductItem     9220 non-null   object\n",
      " 4   ProductPeriod   8717 non-null   object\n",
      " 5   ProductDetails  2033 non-null   object\n",
      " 6   ProductStorage  9220 non-null   object\n",
      " 7   Quantity        9220 non-null   int64 \n",
      "dtypes: int64(3), object(5)\n",
      "memory usage: 576.4+ KB\n"
     ]
    }
   ],
   "source": [
    "df.info()"
   ]
  },
  {
   "cell_type": "code",
   "execution_count": 13,
   "id": "5f4360dd",
   "metadata": {},
   "outputs": [
    {
     "data": {
      "text/html": [
       "<div>\n",
       "<style scoped>\n",
       "    .dataframe tbody tr th:only-of-type {\n",
       "        vertical-align: middle;\n",
       "    }\n",
       "\n",
       "    .dataframe tbody tr th {\n",
       "        vertical-align: top;\n",
       "    }\n",
       "\n",
       "    .dataframe thead th {\n",
       "        text-align: right;\n",
       "    }\n",
       "</style>\n",
       "<table border=\"1\" class=\"dataframe\">\n",
       "  <thead>\n",
       "    <tr style=\"text-align: right;\">\n",
       "      <th></th>\n",
       "      <th>OrderId</th>\n",
       "      <th>OrderItemId</th>\n",
       "      <th>ProductType</th>\n",
       "      <th>ProductItem</th>\n",
       "      <th>ProductPeriod</th>\n",
       "      <th>ProductDetails</th>\n",
       "      <th>ProductStorage</th>\n",
       "      <th>Quantity</th>\n",
       "    </tr>\n",
       "  </thead>\n",
       "  <tbody>\n",
       "    <tr>\n",
       "      <th>0</th>\n",
       "      <td>20051</td>\n",
       "      <td>1</td>\n",
       "      <td>DIARY</td>\n",
       "      <td>Cheese, processed slices</td>\n",
       "      <td>1-2 months</td>\n",
       "      <td>NaN</td>\n",
       "      <td>REFRIGERATED</td>\n",
       "      <td>105</td>\n",
       "    </tr>\n",
       "  </tbody>\n",
       "</table>\n",
       "</div>"
      ],
      "text/plain": [
       "   OrderId  OrderItemId ProductType               ProductItem ProductPeriod  \\\n",
       "0    20051            1       DIARY  Cheese, processed slices    1-2 months   \n",
       "\n",
       "  ProductDetails ProductStorage  Quantity  \n",
       "0            NaN   REFRIGERATED       105  "
      ]
     },
     "execution_count": 13,
     "metadata": {},
     "output_type": "execute_result"
    }
   ],
   "source": [
    "df.head(1)"
   ]
  },
  {
   "cell_type": "code",
   "execution_count": 14,
   "id": "6a1f9fc8",
   "metadata": {},
   "outputs": [
    {
     "data": {
      "text/plain": [
       "4903"
      ]
     },
     "execution_count": 14,
     "metadata": {},
     "output_type": "execute_result"
    }
   ],
   "source": [
    "((df['Quantity'] > 30) & (df['Quantity'] < 120)).sum()"
   ]
  },
  {
   "cell_type": "code",
   "execution_count": 15,
   "id": "72953a35",
   "metadata": {},
   "outputs": [
    {
     "data": {
      "text/plain": [
       "9220"
      ]
     },
     "execution_count": 15,
     "metadata": {},
     "output_type": "execute_result"
    }
   ],
   "source": [
    "(df['ProductItem'] == 'Cheese').count()"
   ]
  },
  {
   "cell_type": "code",
   "execution_count": 16,
   "id": "8adc0258",
   "metadata": {},
   "outputs": [
    {
     "data": {
      "text/html": [
       "<div>\n",
       "<style scoped>\n",
       "    .dataframe tbody tr th:only-of-type {\n",
       "        vertical-align: middle;\n",
       "    }\n",
       "\n",
       "    .dataframe tbody tr th {\n",
       "        vertical-align: top;\n",
       "    }\n",
       "\n",
       "    .dataframe thead th {\n",
       "        text-align: right;\n",
       "    }\n",
       "</style>\n",
       "<table border=\"1\" class=\"dataframe\">\n",
       "  <thead>\n",
       "    <tr style=\"text-align: right;\">\n",
       "      <th></th>\n",
       "      <th>OrderId</th>\n",
       "      <th>OrderItemId</th>\n",
       "      <th>ProductType</th>\n",
       "      <th>ProductItem</th>\n",
       "      <th>ProductPeriod</th>\n",
       "      <th>ProductDetails</th>\n",
       "      <th>ProductStorage</th>\n",
       "      <th>Quantity</th>\n",
       "    </tr>\n",
       "  </thead>\n",
       "  <tbody>\n",
       "    <tr>\n",
       "      <th>5</th>\n",
       "      <td>20051</td>\n",
       "      <td>6</td>\n",
       "      <td>PROCESSED_MEAT</td>\n",
       "      <td>Bacon</td>\n",
       "      <td>1 week</td>\n",
       "      <td>NaN</td>\n",
       "      <td>REFRIGERATED</td>\n",
       "      <td>140</td>\n",
       "    </tr>\n",
       "    <tr>\n",
       "      <th>6</th>\n",
       "      <td>20051</td>\n",
       "      <td>7</td>\n",
       "      <td>PROCESSED_MEAT</td>\n",
       "      <td>Ham, canned (\"keep refrigerated\" label)</td>\n",
       "      <td>6-9 months</td>\n",
       "      <td>NaN</td>\n",
       "      <td>REFRIGERATED</td>\n",
       "      <td>110</td>\n",
       "    </tr>\n",
       "    <tr>\n",
       "      <th>7</th>\n",
       "      <td>20051</td>\n",
       "      <td>8</td>\n",
       "      <td>FRUIT</td>\n",
       "      <td>Apples</td>\n",
       "      <td>1-2 days</td>\n",
       "      <td>NaN</td>\n",
       "      <td>SHELF</td>\n",
       "      <td>130</td>\n",
       "    </tr>\n",
       "    <tr>\n",
       "      <th>8</th>\n",
       "      <td>20051</td>\n",
       "      <td>9</td>\n",
       "      <td>FRUIT</td>\n",
       "      <td>Bananas</td>\n",
       "      <td>Until ripe</td>\n",
       "      <td>NaN</td>\n",
       "      <td>SHELF</td>\n",
       "      <td>100</td>\n",
       "    </tr>\n",
       "    <tr>\n",
       "      <th>9</th>\n",
       "      <td>20051</td>\n",
       "      <td>10</td>\n",
       "      <td>VEGETABLES</td>\n",
       "      <td>Tomatoes</td>\n",
       "      <td>Until ripe</td>\n",
       "      <td>NaN</td>\n",
       "      <td>SHELF</td>\n",
       "      <td>125</td>\n",
       "    </tr>\n",
       "    <tr>\n",
       "      <th>...</th>\n",
       "      <td>...</td>\n",
       "      <td>...</td>\n",
       "      <td>...</td>\n",
       "      <td>...</td>\n",
       "      <td>...</td>\n",
       "      <td>...</td>\n",
       "      <td>...</td>\n",
       "      <td>...</td>\n",
       "    </tr>\n",
       "    <tr>\n",
       "      <th>9215</th>\n",
       "      <td>20139</td>\n",
       "      <td>35</td>\n",
       "      <td>SHELLFISH</td>\n",
       "      <td>Shucked clams, mussels and oysters</td>\n",
       "      <td>3-4 months</td>\n",
       "      <td>NaN</td>\n",
       "      <td>FROZEN</td>\n",
       "      <td>150</td>\n",
       "    </tr>\n",
       "    <tr>\n",
       "      <th>9216</th>\n",
       "      <td>20139</td>\n",
       "      <td>36</td>\n",
       "      <td>SHELF_ITEM</td>\n",
       "      <td>Milk, canned evaporated</td>\n",
       "      <td>4-5 days</td>\n",
       "      <td>opened</td>\n",
       "      <td>REFRIGERATED</td>\n",
       "      <td>168</td>\n",
       "    </tr>\n",
       "    <tr>\n",
       "      <th>9217</th>\n",
       "      <td>20139</td>\n",
       "      <td>37</td>\n",
       "      <td>PESTO</td>\n",
       "      <td>Pesto or Sala</td>\n",
       "      <td>package date</td>\n",
       "      <td>unopened</td>\n",
       "      <td>REFRIGERATED</td>\n",
       "      <td>120</td>\n",
       "    </tr>\n",
       "    <tr>\n",
       "      <th>9218</th>\n",
       "      <td>20139</td>\n",
       "      <td>38</td>\n",
       "      <td>BAKERY</td>\n",
       "      <td>Rolls, yeast, baked</td>\n",
       "      <td>1 week</td>\n",
       "      <td>NaN</td>\n",
       "      <td>REFRIGERATED</td>\n",
       "      <td>168</td>\n",
       "    </tr>\n",
       "    <tr>\n",
       "      <th>9219</th>\n",
       "      <td>20139</td>\n",
       "      <td>39</td>\n",
       "      <td>PROCESSED_MEAT</td>\n",
       "      <td>Lunch meats, after opening</td>\n",
       "      <td>3-5 days</td>\n",
       "      <td>NaN</td>\n",
       "      <td>REFRIGERATED</td>\n",
       "      <td>168</td>\n",
       "    </tr>\n",
       "  </tbody>\n",
       "</table>\n",
       "<p>7885 rows × 8 columns</p>\n",
       "</div>"
      ],
      "text/plain": [
       "      OrderId  OrderItemId     ProductType  \\\n",
       "5       20051            6  PROCESSED_MEAT   \n",
       "6       20051            7  PROCESSED_MEAT   \n",
       "7       20051            8           FRUIT   \n",
       "8       20051            9           FRUIT   \n",
       "9       20051           10      VEGETABLES   \n",
       "...       ...          ...             ...   \n",
       "9215    20139           35       SHELLFISH   \n",
       "9216    20139           36      SHELF_ITEM   \n",
       "9217    20139           37           PESTO   \n",
       "9218    20139           38          BAKERY   \n",
       "9219    20139           39  PROCESSED_MEAT   \n",
       "\n",
       "                                  ProductItem ProductPeriod ProductDetails  \\\n",
       "5                                       Bacon        1 week            NaN   \n",
       "6     Ham, canned (\"keep refrigerated\" label)    6-9 months            NaN   \n",
       "7                                      Apples      1-2 days            NaN   \n",
       "8                                     Bananas    Until ripe            NaN   \n",
       "9                                    Tomatoes    Until ripe            NaN   \n",
       "...                                       ...           ...            ...   \n",
       "9215       Shucked clams, mussels and oysters    3-4 months            NaN   \n",
       "9216                  Milk, canned evaporated      4-5 days         opened   \n",
       "9217                            Pesto or Sala  package date       unopened   \n",
       "9218                      Rolls, yeast, baked        1 week            NaN   \n",
       "9219               Lunch meats, after opening      3-5 days            NaN   \n",
       "\n",
       "     ProductStorage  Quantity  \n",
       "5      REFRIGERATED       140  \n",
       "6      REFRIGERATED       110  \n",
       "7             SHELF       130  \n",
       "8             SHELF       100  \n",
       "9             SHELF       125  \n",
       "...             ...       ...  \n",
       "9215         FROZEN       150  \n",
       "9216   REFRIGERATED       168  \n",
       "9217   REFRIGERATED       120  \n",
       "9218   REFRIGERATED       168  \n",
       "9219   REFRIGERATED       168  \n",
       "\n",
       "[7885 rows x 8 columns]"
      ]
     },
     "execution_count": 16,
     "metadata": {},
     "output_type": "execute_result"
    }
   ],
   "source": [
    "df[(df['OrderItemId'] > 5) & (df['OrderItemId'] < 50 )]"
   ]
  },
  {
   "cell_type": "code",
   "execution_count": 17,
   "id": "0f746629",
   "metadata": {},
   "outputs": [
    {
     "data": {
      "text/html": [
       "<div>\n",
       "<style scoped>\n",
       "    .dataframe tbody tr th:only-of-type {\n",
       "        vertical-align: middle;\n",
       "    }\n",
       "\n",
       "    .dataframe tbody tr th {\n",
       "        vertical-align: top;\n",
       "    }\n",
       "\n",
       "    .dataframe thead th {\n",
       "        text-align: right;\n",
       "    }\n",
       "</style>\n",
       "<table border=\"1\" class=\"dataframe\">\n",
       "  <thead>\n",
       "    <tr style=\"text-align: right;\">\n",
       "      <th></th>\n",
       "      <th>OrderId</th>\n",
       "      <th>OrderItemId</th>\n",
       "      <th>Quantity</th>\n",
       "    </tr>\n",
       "  </thead>\n",
       "  <tbody>\n",
       "    <tr>\n",
       "      <th>count</th>\n",
       "      <td>9220.000000</td>\n",
       "      <td>9220.000000</td>\n",
       "      <td>9220.000000</td>\n",
       "    </tr>\n",
       "    <tr>\n",
       "      <th>mean</th>\n",
       "      <td>20095.112364</td>\n",
       "      <td>17.888612</td>\n",
       "      <td>97.265618</td>\n",
       "    </tr>\n",
       "    <tr>\n",
       "      <th>std</th>\n",
       "      <td>25.633417</td>\n",
       "      <td>10.174807</td>\n",
       "      <td>61.170710</td>\n",
       "    </tr>\n",
       "    <tr>\n",
       "      <th>min</th>\n",
       "      <td>20051.000000</td>\n",
       "      <td>1.000000</td>\n",
       "      <td>20.000000</td>\n",
       "    </tr>\n",
       "    <tr>\n",
       "      <th>25%</th>\n",
       "      <td>20073.000000</td>\n",
       "      <td>9.000000</td>\n",
       "      <td>50.000000</td>\n",
       "    </tr>\n",
       "    <tr>\n",
       "      <th>50%</th>\n",
       "      <td>20095.000000</td>\n",
       "      <td>18.000000</td>\n",
       "      <td>81.000000</td>\n",
       "    </tr>\n",
       "    <tr>\n",
       "      <th>75%</th>\n",
       "      <td>20117.000000</td>\n",
       "      <td>26.000000</td>\n",
       "      <td>132.000000</td>\n",
       "    </tr>\n",
       "    <tr>\n",
       "      <th>max</th>\n",
       "      <td>20139.000000</td>\n",
       "      <td>39.000000</td>\n",
       "      <td>261.000000</td>\n",
       "    </tr>\n",
       "  </tbody>\n",
       "</table>\n",
       "</div>"
      ],
      "text/plain": [
       "            OrderId  OrderItemId     Quantity\n",
       "count   9220.000000  9220.000000  9220.000000\n",
       "mean   20095.112364    17.888612    97.265618\n",
       "std       25.633417    10.174807    61.170710\n",
       "min    20051.000000     1.000000    20.000000\n",
       "25%    20073.000000     9.000000    50.000000\n",
       "50%    20095.000000    18.000000    81.000000\n",
       "75%    20117.000000    26.000000   132.000000\n",
       "max    20139.000000    39.000000   261.000000"
      ]
     },
     "execution_count": 17,
     "metadata": {},
     "output_type": "execute_result"
    }
   ],
   "source": [
    "df.describe()"
   ]
  },
  {
   "cell_type": "code",
   "execution_count": 18,
   "id": "f5df7a2a",
   "metadata": {},
   "outputs": [
    {
     "name": "stderr",
     "output_type": "stream",
     "text": [
      "/tmp/ipykernel_31855/3962516015.py:1: FutureWarning: Dropping of nuisance columns in DataFrame reductions (with 'numeric_only=None') is deprecated; in a future version this will raise TypeError.  Select only valid columns before calling the reduction.\n",
      "  df.min()\n"
     ]
    },
    {
     "data": {
      "text/plain": [
       "OrderId                                   20051\n",
       "OrderItemId                                   1\n",
       "ProductType                              BAKERY\n",
       "ProductItem       Aerosol can, nondairy topping\n",
       "ProductStorage                           FROZEN\n",
       "Quantity                                     20\n",
       "dtype: object"
      ]
     },
     "execution_count": 18,
     "metadata": {},
     "output_type": "execute_result"
    }
   ],
   "source": [
    "df.min()"
   ]
  },
  {
   "cell_type": "code",
   "execution_count": 19,
   "id": "f92bcdbd",
   "metadata": {},
   "outputs": [
    {
     "name": "stderr",
     "output_type": "stream",
     "text": [
      "/tmp/ipykernel_31855/1151452817.py:1: FutureWarning: Dropping of nuisance columns in DataFrame reductions (with 'numeric_only=None') is deprecated; in a future version this will raise TypeError.  Select only valid columns before calling the reduction.\n",
      "  df.max()\n"
     ]
    },
    {
     "data": {
      "text/plain": [
       "OrderId                20139\n",
       "OrderItemId               39\n",
       "ProductType       VEGETABLES\n",
       "ProductItem           Yogurt\n",
       "ProductStorage        THAWED\n",
       "Quantity                 261\n",
       "dtype: object"
      ]
     },
     "execution_count": 19,
     "metadata": {},
     "output_type": "execute_result"
    }
   ],
   "source": [
    "df.max()"
   ]
  },
  {
   "cell_type": "code",
   "execution_count": 20,
   "id": "9db473f2",
   "metadata": {},
   "outputs": [
    {
     "name": "stderr",
     "output_type": "stream",
     "text": [
      "/tmp/ipykernel_31855/3698961737.py:1: FutureWarning: Dropping of nuisance columns in DataFrame reductions (with 'numeric_only=None') is deprecated; in a future version this will raise TypeError.  Select only valid columns before calling the reduction.\n",
      "  df.mean()\n"
     ]
    },
    {
     "data": {
      "text/plain": [
       "OrderId        20095.112364\n",
       "OrderItemId       17.888612\n",
       "Quantity          97.265618\n",
       "dtype: float64"
      ]
     },
     "execution_count": 20,
     "metadata": {},
     "output_type": "execute_result"
    }
   ],
   "source": [
    "df.mean()"
   ]
  },
  {
   "cell_type": "code",
   "execution_count": 21,
   "id": "d29c2fdc",
   "metadata": {},
   "outputs": [
    {
     "name": "stderr",
     "output_type": "stream",
     "text": [
      "/tmp/ipykernel_31855/530051474.py:1: FutureWarning: Dropping of nuisance columns in DataFrame reductions (with 'numeric_only=None') is deprecated; in a future version this will raise TypeError.  Select only valid columns before calling the reduction.\n",
      "  df.median()\n"
     ]
    },
    {
     "data": {
      "text/plain": [
       "OrderId        20095.0\n",
       "OrderItemId       18.0\n",
       "Quantity          81.0\n",
       "dtype: float64"
      ]
     },
     "execution_count": 21,
     "metadata": {},
     "output_type": "execute_result"
    }
   ],
   "source": [
    "df.median()"
   ]
  },
  {
   "cell_type": "code",
   "execution_count": 22,
   "id": "7115bc50",
   "metadata": {},
   "outputs": [
    {
     "data": {
      "text/html": [
       "<div>\n",
       "<style scoped>\n",
       "    .dataframe tbody tr th:only-of-type {\n",
       "        vertical-align: middle;\n",
       "    }\n",
       "\n",
       "    .dataframe tbody tr th {\n",
       "        vertical-align: top;\n",
       "    }\n",
       "\n",
       "    .dataframe thead th {\n",
       "        text-align: right;\n",
       "    }\n",
       "</style>\n",
       "<table border=\"1\" class=\"dataframe\">\n",
       "  <thead>\n",
       "    <tr style=\"text-align: right;\">\n",
       "      <th></th>\n",
       "      <th>OrderId</th>\n",
       "      <th>OrderItemId</th>\n",
       "      <th>ProductType</th>\n",
       "      <th>ProductItem</th>\n",
       "      <th>ProductPeriod</th>\n",
       "      <th>ProductDetails</th>\n",
       "      <th>ProductStorage</th>\n",
       "      <th>Quantity</th>\n",
       "    </tr>\n",
       "  </thead>\n",
       "  <tbody>\n",
       "    <tr>\n",
       "      <th>0</th>\n",
       "      <td>20110.0</td>\n",
       "      <td>1</td>\n",
       "      <td>DIARY</td>\n",
       "      <td>Milk, plain or flavored</td>\n",
       "      <td>1 week</td>\n",
       "      <td>opened</td>\n",
       "      <td>REFRIGERATED</td>\n",
       "      <td>84.0</td>\n",
       "    </tr>\n",
       "    <tr>\n",
       "      <th>1</th>\n",
       "      <td>NaN</td>\n",
       "      <td>2</td>\n",
       "      <td>NaN</td>\n",
       "      <td>NaN</td>\n",
       "      <td>NaN</td>\n",
       "      <td>NaN</td>\n",
       "      <td>NaN</td>\n",
       "      <td>NaN</td>\n",
       "    </tr>\n",
       "    <tr>\n",
       "      <th>2</th>\n",
       "      <td>NaN</td>\n",
       "      <td>3</td>\n",
       "      <td>NaN</td>\n",
       "      <td>NaN</td>\n",
       "      <td>NaN</td>\n",
       "      <td>NaN</td>\n",
       "      <td>NaN</td>\n",
       "      <td>NaN</td>\n",
       "    </tr>\n",
       "    <tr>\n",
       "      <th>3</th>\n",
       "      <td>NaN</td>\n",
       "      <td>4</td>\n",
       "      <td>NaN</td>\n",
       "      <td>NaN</td>\n",
       "      <td>NaN</td>\n",
       "      <td>NaN</td>\n",
       "      <td>NaN</td>\n",
       "      <td>NaN</td>\n",
       "    </tr>\n",
       "    <tr>\n",
       "      <th>4</th>\n",
       "      <td>NaN</td>\n",
       "      <td>5</td>\n",
       "      <td>NaN</td>\n",
       "      <td>NaN</td>\n",
       "      <td>NaN</td>\n",
       "      <td>NaN</td>\n",
       "      <td>NaN</td>\n",
       "      <td>NaN</td>\n",
       "    </tr>\n",
       "    <tr>\n",
       "      <th>5</th>\n",
       "      <td>NaN</td>\n",
       "      <td>6</td>\n",
       "      <td>NaN</td>\n",
       "      <td>NaN</td>\n",
       "      <td>NaN</td>\n",
       "      <td>NaN</td>\n",
       "      <td>NaN</td>\n",
       "      <td>NaN</td>\n",
       "    </tr>\n",
       "    <tr>\n",
       "      <th>6</th>\n",
       "      <td>NaN</td>\n",
       "      <td>7</td>\n",
       "      <td>NaN</td>\n",
       "      <td>NaN</td>\n",
       "      <td>NaN</td>\n",
       "      <td>NaN</td>\n",
       "      <td>NaN</td>\n",
       "      <td>NaN</td>\n",
       "    </tr>\n",
       "    <tr>\n",
       "      <th>7</th>\n",
       "      <td>NaN</td>\n",
       "      <td>8</td>\n",
       "      <td>NaN</td>\n",
       "      <td>NaN</td>\n",
       "      <td>NaN</td>\n",
       "      <td>NaN</td>\n",
       "      <td>NaN</td>\n",
       "      <td>NaN</td>\n",
       "    </tr>\n",
       "    <tr>\n",
       "      <th>8</th>\n",
       "      <td>NaN</td>\n",
       "      <td>9</td>\n",
       "      <td>NaN</td>\n",
       "      <td>NaN</td>\n",
       "      <td>NaN</td>\n",
       "      <td>NaN</td>\n",
       "      <td>NaN</td>\n",
       "      <td>NaN</td>\n",
       "    </tr>\n",
       "    <tr>\n",
       "      <th>9</th>\n",
       "      <td>NaN</td>\n",
       "      <td>10</td>\n",
       "      <td>NaN</td>\n",
       "      <td>NaN</td>\n",
       "      <td>NaN</td>\n",
       "      <td>NaN</td>\n",
       "      <td>NaN</td>\n",
       "      <td>NaN</td>\n",
       "    </tr>\n",
       "    <tr>\n",
       "      <th>10</th>\n",
       "      <td>NaN</td>\n",
       "      <td>11</td>\n",
       "      <td>NaN</td>\n",
       "      <td>NaN</td>\n",
       "      <td>NaN</td>\n",
       "      <td>NaN</td>\n",
       "      <td>NaN</td>\n",
       "      <td>NaN</td>\n",
       "    </tr>\n",
       "    <tr>\n",
       "      <th>11</th>\n",
       "      <td>NaN</td>\n",
       "      <td>12</td>\n",
       "      <td>NaN</td>\n",
       "      <td>NaN</td>\n",
       "      <td>NaN</td>\n",
       "      <td>NaN</td>\n",
       "      <td>NaN</td>\n",
       "      <td>NaN</td>\n",
       "    </tr>\n",
       "    <tr>\n",
       "      <th>12</th>\n",
       "      <td>NaN</td>\n",
       "      <td>13</td>\n",
       "      <td>NaN</td>\n",
       "      <td>NaN</td>\n",
       "      <td>NaN</td>\n",
       "      <td>NaN</td>\n",
       "      <td>NaN</td>\n",
       "      <td>NaN</td>\n",
       "    </tr>\n",
       "    <tr>\n",
       "      <th>13</th>\n",
       "      <td>NaN</td>\n",
       "      <td>14</td>\n",
       "      <td>NaN</td>\n",
       "      <td>NaN</td>\n",
       "      <td>NaN</td>\n",
       "      <td>NaN</td>\n",
       "      <td>NaN</td>\n",
       "      <td>NaN</td>\n",
       "    </tr>\n",
       "    <tr>\n",
       "      <th>14</th>\n",
       "      <td>NaN</td>\n",
       "      <td>15</td>\n",
       "      <td>NaN</td>\n",
       "      <td>NaN</td>\n",
       "      <td>NaN</td>\n",
       "      <td>NaN</td>\n",
       "      <td>NaN</td>\n",
       "      <td>NaN</td>\n",
       "    </tr>\n",
       "    <tr>\n",
       "      <th>15</th>\n",
       "      <td>NaN</td>\n",
       "      <td>16</td>\n",
       "      <td>NaN</td>\n",
       "      <td>NaN</td>\n",
       "      <td>NaN</td>\n",
       "      <td>NaN</td>\n",
       "      <td>NaN</td>\n",
       "      <td>NaN</td>\n",
       "    </tr>\n",
       "    <tr>\n",
       "      <th>16</th>\n",
       "      <td>NaN</td>\n",
       "      <td>17</td>\n",
       "      <td>NaN</td>\n",
       "      <td>NaN</td>\n",
       "      <td>NaN</td>\n",
       "      <td>NaN</td>\n",
       "      <td>NaN</td>\n",
       "      <td>NaN</td>\n",
       "    </tr>\n",
       "    <tr>\n",
       "      <th>17</th>\n",
       "      <td>NaN</td>\n",
       "      <td>18</td>\n",
       "      <td>NaN</td>\n",
       "      <td>NaN</td>\n",
       "      <td>NaN</td>\n",
       "      <td>NaN</td>\n",
       "      <td>NaN</td>\n",
       "      <td>NaN</td>\n",
       "    </tr>\n",
       "    <tr>\n",
       "      <th>18</th>\n",
       "      <td>NaN</td>\n",
       "      <td>19</td>\n",
       "      <td>NaN</td>\n",
       "      <td>NaN</td>\n",
       "      <td>NaN</td>\n",
       "      <td>NaN</td>\n",
       "      <td>NaN</td>\n",
       "      <td>NaN</td>\n",
       "    </tr>\n",
       "    <tr>\n",
       "      <th>19</th>\n",
       "      <td>NaN</td>\n",
       "      <td>20</td>\n",
       "      <td>NaN</td>\n",
       "      <td>NaN</td>\n",
       "      <td>NaN</td>\n",
       "      <td>NaN</td>\n",
       "      <td>NaN</td>\n",
       "      <td>NaN</td>\n",
       "    </tr>\n",
       "    <tr>\n",
       "      <th>20</th>\n",
       "      <td>NaN</td>\n",
       "      <td>21</td>\n",
       "      <td>NaN</td>\n",
       "      <td>NaN</td>\n",
       "      <td>NaN</td>\n",
       "      <td>NaN</td>\n",
       "      <td>NaN</td>\n",
       "      <td>NaN</td>\n",
       "    </tr>\n",
       "    <tr>\n",
       "      <th>21</th>\n",
       "      <td>NaN</td>\n",
       "      <td>22</td>\n",
       "      <td>NaN</td>\n",
       "      <td>NaN</td>\n",
       "      <td>NaN</td>\n",
       "      <td>NaN</td>\n",
       "      <td>NaN</td>\n",
       "      <td>NaN</td>\n",
       "    </tr>\n",
       "    <tr>\n",
       "      <th>22</th>\n",
       "      <td>NaN</td>\n",
       "      <td>23</td>\n",
       "      <td>NaN</td>\n",
       "      <td>NaN</td>\n",
       "      <td>NaN</td>\n",
       "      <td>NaN</td>\n",
       "      <td>NaN</td>\n",
       "      <td>NaN</td>\n",
       "    </tr>\n",
       "    <tr>\n",
       "      <th>23</th>\n",
       "      <td>NaN</td>\n",
       "      <td>24</td>\n",
       "      <td>NaN</td>\n",
       "      <td>NaN</td>\n",
       "      <td>NaN</td>\n",
       "      <td>NaN</td>\n",
       "      <td>NaN</td>\n",
       "      <td>NaN</td>\n",
       "    </tr>\n",
       "    <tr>\n",
       "      <th>24</th>\n",
       "      <td>NaN</td>\n",
       "      <td>25</td>\n",
       "      <td>NaN</td>\n",
       "      <td>NaN</td>\n",
       "      <td>NaN</td>\n",
       "      <td>NaN</td>\n",
       "      <td>NaN</td>\n",
       "      <td>NaN</td>\n",
       "    </tr>\n",
       "    <tr>\n",
       "      <th>25</th>\n",
       "      <td>NaN</td>\n",
       "      <td>26</td>\n",
       "      <td>NaN</td>\n",
       "      <td>NaN</td>\n",
       "      <td>NaN</td>\n",
       "      <td>NaN</td>\n",
       "      <td>NaN</td>\n",
       "      <td>NaN</td>\n",
       "    </tr>\n",
       "    <tr>\n",
       "      <th>26</th>\n",
       "      <td>NaN</td>\n",
       "      <td>27</td>\n",
       "      <td>NaN</td>\n",
       "      <td>NaN</td>\n",
       "      <td>NaN</td>\n",
       "      <td>NaN</td>\n",
       "      <td>NaN</td>\n",
       "      <td>NaN</td>\n",
       "    </tr>\n",
       "    <tr>\n",
       "      <th>27</th>\n",
       "      <td>NaN</td>\n",
       "      <td>28</td>\n",
       "      <td>NaN</td>\n",
       "      <td>NaN</td>\n",
       "      <td>NaN</td>\n",
       "      <td>NaN</td>\n",
       "      <td>NaN</td>\n",
       "      <td>NaN</td>\n",
       "    </tr>\n",
       "    <tr>\n",
       "      <th>28</th>\n",
       "      <td>NaN</td>\n",
       "      <td>29</td>\n",
       "      <td>NaN</td>\n",
       "      <td>NaN</td>\n",
       "      <td>NaN</td>\n",
       "      <td>NaN</td>\n",
       "      <td>NaN</td>\n",
       "      <td>NaN</td>\n",
       "    </tr>\n",
       "    <tr>\n",
       "      <th>29</th>\n",
       "      <td>NaN</td>\n",
       "      <td>30</td>\n",
       "      <td>NaN</td>\n",
       "      <td>NaN</td>\n",
       "      <td>NaN</td>\n",
       "      <td>NaN</td>\n",
       "      <td>NaN</td>\n",
       "      <td>NaN</td>\n",
       "    </tr>\n",
       "  </tbody>\n",
       "</table>\n",
       "</div>"
      ],
      "text/plain": [
       "    OrderId  OrderItemId ProductType              ProductItem ProductPeriod  \\\n",
       "0   20110.0            1       DIARY  Milk, plain or flavored        1 week   \n",
       "1       NaN            2         NaN                      NaN           NaN   \n",
       "2       NaN            3         NaN                      NaN           NaN   \n",
       "3       NaN            4         NaN                      NaN           NaN   \n",
       "4       NaN            5         NaN                      NaN           NaN   \n",
       "5       NaN            6         NaN                      NaN           NaN   \n",
       "6       NaN            7         NaN                      NaN           NaN   \n",
       "7       NaN            8         NaN                      NaN           NaN   \n",
       "8       NaN            9         NaN                      NaN           NaN   \n",
       "9       NaN           10         NaN                      NaN           NaN   \n",
       "10      NaN           11         NaN                      NaN           NaN   \n",
       "11      NaN           12         NaN                      NaN           NaN   \n",
       "12      NaN           13         NaN                      NaN           NaN   \n",
       "13      NaN           14         NaN                      NaN           NaN   \n",
       "14      NaN           15         NaN                      NaN           NaN   \n",
       "15      NaN           16         NaN                      NaN           NaN   \n",
       "16      NaN           17         NaN                      NaN           NaN   \n",
       "17      NaN           18         NaN                      NaN           NaN   \n",
       "18      NaN           19         NaN                      NaN           NaN   \n",
       "19      NaN           20         NaN                      NaN           NaN   \n",
       "20      NaN           21         NaN                      NaN           NaN   \n",
       "21      NaN           22         NaN                      NaN           NaN   \n",
       "22      NaN           23         NaN                      NaN           NaN   \n",
       "23      NaN           24         NaN                      NaN           NaN   \n",
       "24      NaN           25         NaN                      NaN           NaN   \n",
       "25      NaN           26         NaN                      NaN           NaN   \n",
       "26      NaN           27         NaN                      NaN           NaN   \n",
       "27      NaN           28         NaN                      NaN           NaN   \n",
       "28      NaN           29         NaN                      NaN           NaN   \n",
       "29      NaN           30         NaN                      NaN           NaN   \n",
       "\n",
       "   ProductDetails ProductStorage  Quantity  \n",
       "0          opened   REFRIGERATED      84.0  \n",
       "1             NaN            NaN       NaN  \n",
       "2             NaN            NaN       NaN  \n",
       "3             NaN            NaN       NaN  \n",
       "4             NaN            NaN       NaN  \n",
       "5             NaN            NaN       NaN  \n",
       "6             NaN            NaN       NaN  \n",
       "7             NaN            NaN       NaN  \n",
       "8             NaN            NaN       NaN  \n",
       "9             NaN            NaN       NaN  \n",
       "10            NaN            NaN       NaN  \n",
       "11            NaN            NaN       NaN  \n",
       "12            NaN            NaN       NaN  \n",
       "13            NaN            NaN       NaN  \n",
       "14            NaN            NaN       NaN  \n",
       "15            NaN            NaN       NaN  \n",
       "16            NaN            NaN       NaN  \n",
       "17            NaN            NaN       NaN  \n",
       "18            NaN            NaN       NaN  \n",
       "19            NaN            NaN       NaN  \n",
       "20            NaN            NaN       NaN  \n",
       "21            NaN            NaN       NaN  \n",
       "22            NaN            NaN       NaN  \n",
       "23            NaN            NaN       NaN  \n",
       "24            NaN            NaN       NaN  \n",
       "25            NaN            NaN       NaN  \n",
       "26            NaN            NaN       NaN  \n",
       "27            NaN            NaN       NaN  \n",
       "28            NaN            NaN       NaN  \n",
       "29            NaN            NaN       NaN  "
      ]
     },
     "execution_count": 22,
     "metadata": {},
     "output_type": "execute_result"
    }
   ],
   "source": [
    "df.mode()"
   ]
  },
  {
   "cell_type": "code",
   "execution_count": 23,
   "id": "3316b3c1",
   "metadata": {},
   "outputs": [
    {
     "data": {
      "text/plain": [
       "312"
      ]
     },
     "execution_count": 23,
     "metadata": {},
     "output_type": "execute_result"
    }
   ],
   "source": [
    "(df['ProductItem'] == 'Milk, plain or flavored').sum()"
   ]
  },
  {
   "cell_type": "code",
   "execution_count": 24,
   "id": "a1e36de3",
   "metadata": {},
   "outputs": [
    {
     "data": {
      "text/plain": [
       "OrderId              0\n",
       "OrderItemId          0\n",
       "ProductType          0\n",
       "ProductItem          0\n",
       "ProductPeriod      503\n",
       "ProductDetails    7187\n",
       "ProductStorage       0\n",
       "Quantity             0\n",
       "dtype: int64"
      ]
     },
     "execution_count": 24,
     "metadata": {},
     "output_type": "execute_result"
    }
   ],
   "source": [
    "df.isnull().sum()"
   ]
  },
  {
   "cell_type": "code",
   "execution_count": 25,
   "id": "87cf4ee0",
   "metadata": {},
   "outputs": [
    {
     "name": "stdout",
     "output_type": "stream",
     "text": [
      "503\n",
      "-------------------------\n",
      "0    1 week\n",
      "dtype: object\n"
     ]
    }
   ],
   "source": [
    "missing_productperiod = df['ProductPeriod'].isnull().sum()\n",
    "print(missing_productperiod)\n",
    "print('-------------------------')\n",
    "mode_productperiod =  df['ProductPeriod'].mode()\n",
    "print(mode_productperiod) "
   ]
  },
  {
   "cell_type": "code",
   "execution_count": 26,
   "id": "cdfe2178",
   "metadata": {},
   "outputs": [],
   "source": [
    "df.replace(missing_productperiod,mode_productperiod,inplace = True)"
   ]
  },
  {
   "cell_type": "code",
   "execution_count": 27,
   "id": "c2bf760e",
   "metadata": {},
   "outputs": [
    {
     "data": {
      "text/html": [
       "<div>\n",
       "<style scoped>\n",
       "    .dataframe tbody tr th:only-of-type {\n",
       "        vertical-align: middle;\n",
       "    }\n",
       "\n",
       "    .dataframe tbody tr th {\n",
       "        vertical-align: top;\n",
       "    }\n",
       "\n",
       "    .dataframe thead th {\n",
       "        text-align: right;\n",
       "    }\n",
       "</style>\n",
       "<table border=\"1\" class=\"dataframe\">\n",
       "  <thead>\n",
       "    <tr style=\"text-align: right;\">\n",
       "      <th></th>\n",
       "      <th>OrderId</th>\n",
       "      <th>OrderItemId</th>\n",
       "      <th>ProductType</th>\n",
       "      <th>ProductItem</th>\n",
       "      <th>ProductPeriod</th>\n",
       "      <th>ProductDetails</th>\n",
       "      <th>ProductStorage</th>\n",
       "      <th>Quantity</th>\n",
       "    </tr>\n",
       "  </thead>\n",
       "  <tbody>\n",
       "    <tr>\n",
       "      <th>0</th>\n",
       "      <td>20051</td>\n",
       "      <td>1</td>\n",
       "      <td>DIARY</td>\n",
       "      <td>Cheese, processed slices</td>\n",
       "      <td>1-2 months</td>\n",
       "      <td>NaN</td>\n",
       "      <td>REFRIGERATED</td>\n",
       "      <td>105</td>\n",
       "    </tr>\n",
       "    <tr>\n",
       "      <th>1</th>\n",
       "      <td>20051</td>\n",
       "      <td>2</td>\n",
       "      <td>DIARY</td>\n",
       "      <td>Eggs, in shell</td>\n",
       "      <td>3-5 weeks</td>\n",
       "      <td>NaN</td>\n",
       "      <td>REFRIGERATED</td>\n",
       "      <td>120</td>\n",
       "    </tr>\n",
       "    <tr>\n",
       "      <th>2</th>\n",
       "      <td>20051</td>\n",
       "      <td>3</td>\n",
       "      <td>DIARY</td>\n",
       "      <td>Margarine</td>\n",
       "      <td>12 months</td>\n",
       "      <td>NaN</td>\n",
       "      <td>FROZEN</td>\n",
       "      <td>140</td>\n",
       "    </tr>\n",
       "    <tr>\n",
       "      <th>3</th>\n",
       "      <td>20051</td>\n",
       "      <td>4</td>\n",
       "      <td>DIARY</td>\n",
       "      <td>Milk, plain or flavored</td>\n",
       "      <td>1 week</td>\n",
       "      <td>NaN</td>\n",
       "      <td>REFRIGERATED</td>\n",
       "      <td>135</td>\n",
       "    </tr>\n",
       "    <tr>\n",
       "      <th>4</th>\n",
       "      <td>20051</td>\n",
       "      <td>5</td>\n",
       "      <td>SOY</td>\n",
       "      <td>Tofu</td>\n",
       "      <td>1 week</td>\n",
       "      <td>NaN</td>\n",
       "      <td>REFRIGERATED</td>\n",
       "      <td>145</td>\n",
       "    </tr>\n",
       "  </tbody>\n",
       "</table>\n",
       "</div>"
      ],
      "text/plain": [
       "   OrderId  OrderItemId ProductType               ProductItem ProductPeriod  \\\n",
       "0    20051            1       DIARY  Cheese, processed slices    1-2 months   \n",
       "1    20051            2       DIARY            Eggs, in shell     3-5 weeks   \n",
       "2    20051            3       DIARY                 Margarine     12 months   \n",
       "3    20051            4       DIARY   Milk, plain or flavored        1 week   \n",
       "4    20051            5         SOY                      Tofu        1 week   \n",
       "\n",
       "  ProductDetails ProductStorage  Quantity  \n",
       "0            NaN   REFRIGERATED       105  \n",
       "1            NaN   REFRIGERATED       120  \n",
       "2            NaN         FROZEN       140  \n",
       "3            NaN   REFRIGERATED       135  \n",
       "4            NaN   REFRIGERATED       145  "
      ]
     },
     "execution_count": 27,
     "metadata": {},
     "output_type": "execute_result"
    }
   ],
   "source": [
    "df.head()"
   ]
  },
  {
   "cell_type": "code",
   "execution_count": 28,
   "id": "98f636c4",
   "metadata": {},
   "outputs": [],
   "source": [
    "df['ProductDetails'].fillna('no_details',inplace = True)"
   ]
  },
  {
   "cell_type": "code",
   "execution_count": 29,
   "id": "6dad143b",
   "metadata": {},
   "outputs": [
    {
     "data": {
      "text/html": [
       "<div>\n",
       "<style scoped>\n",
       "    .dataframe tbody tr th:only-of-type {\n",
       "        vertical-align: middle;\n",
       "    }\n",
       "\n",
       "    .dataframe tbody tr th {\n",
       "        vertical-align: top;\n",
       "    }\n",
       "\n",
       "    .dataframe thead th {\n",
       "        text-align: right;\n",
       "    }\n",
       "</style>\n",
       "<table border=\"1\" class=\"dataframe\">\n",
       "  <thead>\n",
       "    <tr style=\"text-align: right;\">\n",
       "      <th></th>\n",
       "      <th>OrderId</th>\n",
       "      <th>OrderItemId</th>\n",
       "      <th>ProductType</th>\n",
       "      <th>ProductItem</th>\n",
       "      <th>ProductPeriod</th>\n",
       "      <th>ProductDetails</th>\n",
       "      <th>ProductStorage</th>\n",
       "      <th>Quantity</th>\n",
       "    </tr>\n",
       "  </thead>\n",
       "  <tbody>\n",
       "    <tr>\n",
       "      <th>0</th>\n",
       "      <td>20051</td>\n",
       "      <td>1</td>\n",
       "      <td>DIARY</td>\n",
       "      <td>Cheese, processed slices</td>\n",
       "      <td>1-2 months</td>\n",
       "      <td>no_details</td>\n",
       "      <td>REFRIGERATED</td>\n",
       "      <td>105</td>\n",
       "    </tr>\n",
       "    <tr>\n",
       "      <th>1</th>\n",
       "      <td>20051</td>\n",
       "      <td>2</td>\n",
       "      <td>DIARY</td>\n",
       "      <td>Eggs, in shell</td>\n",
       "      <td>3-5 weeks</td>\n",
       "      <td>no_details</td>\n",
       "      <td>REFRIGERATED</td>\n",
       "      <td>120</td>\n",
       "    </tr>\n",
       "    <tr>\n",
       "      <th>2</th>\n",
       "      <td>20051</td>\n",
       "      <td>3</td>\n",
       "      <td>DIARY</td>\n",
       "      <td>Margarine</td>\n",
       "      <td>12 months</td>\n",
       "      <td>no_details</td>\n",
       "      <td>FROZEN</td>\n",
       "      <td>140</td>\n",
       "    </tr>\n",
       "    <tr>\n",
       "      <th>3</th>\n",
       "      <td>20051</td>\n",
       "      <td>4</td>\n",
       "      <td>DIARY</td>\n",
       "      <td>Milk, plain or flavored</td>\n",
       "      <td>1 week</td>\n",
       "      <td>no_details</td>\n",
       "      <td>REFRIGERATED</td>\n",
       "      <td>135</td>\n",
       "    </tr>\n",
       "    <tr>\n",
       "      <th>4</th>\n",
       "      <td>20051</td>\n",
       "      <td>5</td>\n",
       "      <td>SOY</td>\n",
       "      <td>Tofu</td>\n",
       "      <td>1 week</td>\n",
       "      <td>no_details</td>\n",
       "      <td>REFRIGERATED</td>\n",
       "      <td>145</td>\n",
       "    </tr>\n",
       "  </tbody>\n",
       "</table>\n",
       "</div>"
      ],
      "text/plain": [
       "   OrderId  OrderItemId ProductType               ProductItem ProductPeriod  \\\n",
       "0    20051            1       DIARY  Cheese, processed slices    1-2 months   \n",
       "1    20051            2       DIARY            Eggs, in shell     3-5 weeks   \n",
       "2    20051            3       DIARY                 Margarine     12 months   \n",
       "3    20051            4       DIARY   Milk, plain or flavored        1 week   \n",
       "4    20051            5         SOY                      Tofu        1 week   \n",
       "\n",
       "  ProductDetails ProductStorage  Quantity  \n",
       "0     no_details   REFRIGERATED       105  \n",
       "1     no_details   REFRIGERATED       120  \n",
       "2     no_details         FROZEN       140  \n",
       "3     no_details   REFRIGERATED       135  \n",
       "4     no_details   REFRIGERATED       145  "
      ]
     },
     "execution_count": 29,
     "metadata": {},
     "output_type": "execute_result"
    }
   ],
   "source": [
    "df.head()"
   ]
  },
  {
   "cell_type": "code",
   "execution_count": 30,
   "id": "f5027809",
   "metadata": {
    "scrolled": true
   },
   "outputs": [
    {
     "data": {
      "text/plain": [
       "<AxesSubplot:>"
      ]
     },
     "execution_count": 30,
     "metadata": {},
     "output_type": "execute_result"
    },
    {
     "data": {
      "image/png": "[encoded data removed]",
      "text/plain": [
       "<Figure size 432x288 with 1 Axes>"
      ]
     },
     "metadata": {
      "needs_background": "light"
     },
     "output_type": "display_data"
    }
   ],
   "source": [
    "df.plot.line()"
   ]
  },
  {
   "cell_type": "code",
   "execution_count": 31,
   "id": "a74d32fb",
   "metadata": {},
   "outputs": [],
   "source": [
    "d = df.head(10)"
   ]
  },
  {
   "cell_type": "code",
   "execution_count": 32,
   "id": "352687e3",
   "metadata": {},
   "outputs": [
    {
     "data": {
      "text/plain": [
       "<AxesSubplot:xlabel='ProductItem', ylabel='Quantity'>"
      ]
     },
     "execution_count": 32,
     "metadata": {},
     "output_type": "execute_result"
    },
    {
     "data": {
      "image/png": "[encoded data removed]",
      "text/plain": [
       "<Figure size 432x288 with 1 Axes>"
      ]
     },
     "metadata": {
      "needs_background": "light"
     },
     "output_type": "display_data"
    }
   ],
   "source": [
    "d.plot.scatter(x = 'ProductItem',y='Quantity',fontsize = 10)"
   ]
  },
  {
   "cell_type": "code",
   "execution_count": 33,
   "id": "9e6ccd97",
   "metadata": {},
   "outputs": [
    {
     "data": {
      "text/plain": [
       "<AxesSubplot:>"
      ]
     },
     "execution_count": 33,
     "metadata": {},
     "output_type": "execute_result"
    },
    {
     "data": {
      "image/png": "[encoded data removed]",
      "text/plain": [
       "<Figure size 432x288 with 1 Axes>"
      ]
     },
     "metadata": {
      "needs_background": "light"
     },
     "output_type": "display_data"
    }
   ],
   "source": [
    "d.plot.bar(stacked = False)"
   ]
  },
  {
   "cell_type": "code",
   "execution_count": 34,
   "id": "70f79af1",
   "metadata": {},
   "outputs": [
    {
     "data": {
      "text/plain": [
       "<AxesSubplot:ylabel='Frequency'>"
      ]
     },
     "execution_count": 34,
     "metadata": {},
     "output_type": "execute_result"
    },
    {
     "data": {
      "image/png": "[encoded data removed]",
      "text/plain": [
       "<Figure size 432x288 with 1 Axes>"
      ]
     },
     "metadata": {
      "needs_background": "light"
     },
     "output_type": "display_data"
    }
   ],
   "source": [
    "df.plot.hist()"
   ]
  },
  {
   "cell_type": "code",
   "execution_count": 35,
   "id": "8cbcfa4c",
   "metadata": {},
   "outputs": [
    {
     "data": {
      "text/plain": [
       "<AxesSubplot:>"
      ]
     },
     "execution_count": 35,
     "metadata": {},
     "output_type": "execute_result"
    },
    {
     "data": {
      "image/png": "[encoded data removed]",
      "text/plain": [
       "<Figure size 432x288 with 1 Axes>"
      ]
     },
     "metadata": {
      "needs_background": "light"
     },
     "output_type": "display_data"
    }
   ],
   "source": [
    "d.plot.bar()"
   ]
  },
  {
   "cell_type": "code",
   "execution_count": 36,
   "id": "c8a1c545",
   "metadata": {},
   "outputs": [
    {
     "data": {
      "text/plain": [
       "<AxesSubplot:title={'center':'OrderId'}, xlabel='[ProductType]'>"
      ]
     },
     "execution_count": 36,
     "metadata": {},
     "output_type": "execute_result"
    },
    {
     "data": {
      "image/png": "[encoded data removed]",
      "text/plain": [
       "<Figure size 432x288 with 1 Axes>"
      ]
     },
     "metadata": {
      "needs_background": "light"
     },
     "output_type": "display_data"
    }
   ],
   "source": [
    "d.boxplot(column=[\"OrderId\"],by = ['ProductType'])"
   ]
  },
  {
   "cell_type": "code",
   "execution_count": 37,
   "id": "432f9cb8",
   "metadata": {},
   "outputs": [
    {
     "data": {
      "text/plain": [
       "<AxesSubplot:>"
      ]
     },
     "execution_count": 37,
     "metadata": {},
     "output_type": "execute_result"
    },
    {
     "data": {
      "image/png": "[encoded data removed]",
      "text/plain": [
       "<Figure size 432x288 with 1 Axes>"
      ]
     },
     "metadata": {
      "needs_background": "light"
     },
     "output_type": "display_data"
    }
   ],
   "source": [
    "df.plot.area()"
   ]
  },
  {
   "cell_type": "code",
   "execution_count": 38,
   "id": "fb5193ac",
   "metadata": {},
   "outputs": [
    {
     "data": {
      "text/plain": [
       "<AxesSubplot:xlabel='OrderItemId', ylabel='Quantity'>"
      ]
     },
     "execution_count": 38,
     "metadata": {},
     "output_type": "execute_result"
    },
    {
     "data": {
      "image/png": "[encoded data removed]",
      "text/plain": [
       "<Figure size 432x288 with 2 Axes>"
      ]
     },
     "metadata": {
      "needs_background": "light"
     },
     "output_type": "display_data"
    }
   ],
   "source": [
    "df.plot.hexbin(x='OrderItemId', y='Quantity', gridsize=25)"
   ]
  },
  {
   "cell_type": "code",
   "execution_count": 39,
   "id": "3bb3d7f7",
   "metadata": {},
   "outputs": [
    {
     "data": {
      "text/plain": [
       "array([[<AxesSubplot:xlabel='OrderId', ylabel='OrderId'>,\n",
       "        <AxesSubplot:xlabel='OrderItemId', ylabel='OrderId'>,\n",
       "        <AxesSubplot:xlabel='Quantity', ylabel='OrderId'>],\n",
       "       [<AxesSubplot:xlabel='OrderId', ylabel='OrderItemId'>,\n",
       "        <AxesSubplot:xlabel='OrderItemId', ylabel='OrderItemId'>,\n",
       "        <AxesSubplot:xlabel='Quantity', ylabel='OrderItemId'>],\n",
       "       [<AxesSubplot:xlabel='OrderId', ylabel='Quantity'>,\n",
       "        <AxesSubplot:xlabel='OrderItemId', ylabel='Quantity'>,\n",
       "        <AxesSubplot:xlabel='Quantity', ylabel='Quantity'>]], dtype=object)"
      ]
     },
     "execution_count": 39,
     "metadata": {},
     "output_type": "execute_result"
    },
    {
     "data": {
      "image/png": "[encoded data removed]",
      "text/plain": [
       "<Figure size 432x432 with 9 Axes>"
      ]
     },
     "metadata": {
      "needs_background": "light"
     },
     "output_type": "display_data"
    }
   ],
   "source": [
    "scatter_matrix(df, alpha=0.2, figsize=(6, 6))"
   ]
  },
  {
   "cell_type": "code",
   "execution_count": 40,
   "id": "5b1e6094",
   "metadata": {},
   "outputs": [
    {
     "data": {
      "text/html": [
       "<div>\n",
       "<style scoped>\n",
       "    .dataframe tbody tr th:only-of-type {\n",
       "        vertical-align: middle;\n",
       "    }\n",
       "\n",
       "    .dataframe tbody tr th {\n",
       "        vertical-align: top;\n",
       "    }\n",
       "\n",
       "    .dataframe thead th {\n",
       "        text-align: right;\n",
       "    }\n",
       "</style>\n",
       "<table border=\"1\" class=\"dataframe\">\n",
       "  <thead>\n",
       "    <tr style=\"text-align: right;\">\n",
       "      <th></th>\n",
       "      <th>OrderId</th>\n",
       "      <th>OrderItemId</th>\n",
       "      <th>ProductType</th>\n",
       "      <th>ProductItem</th>\n",
       "      <th>ProductPeriod</th>\n",
       "      <th>ProductDetails</th>\n",
       "      <th>ProductStorage</th>\n",
       "    </tr>\n",
       "  </thead>\n",
       "  <tbody>\n",
       "    <tr>\n",
       "      <th>0</th>\n",
       "      <td>50050</td>\n",
       "      <td>1</td>\n",
       "      <td>DIARY</td>\n",
       "      <td>Eggs, in shell</td>\n",
       "      <td>NaN</td>\n",
       "      <td>Do not freeze</td>\n",
       "      <td>FROZEN</td>\n",
       "    </tr>\n",
       "    <tr>\n",
       "      <th>1</th>\n",
       "      <td>50050</td>\n",
       "      <td>2</td>\n",
       "      <td>SHELF_ITEM</td>\n",
       "      <td>Tea, bags</td>\n",
       "      <td>18 months</td>\n",
       "      <td>unopened</td>\n",
       "      <td>SHELF</td>\n",
       "    </tr>\n",
       "    <tr>\n",
       "      <th>2</th>\n",
       "      <td>50050</td>\n",
       "      <td>3</td>\n",
       "      <td>BAKERY</td>\n",
       "      <td>Pies, mincemeat</td>\n",
       "      <td>8 months</td>\n",
       "      <td>NaN</td>\n",
       "      <td>FROZEN</td>\n",
       "    </tr>\n",
       "    <tr>\n",
       "      <th>3</th>\n",
       "      <td>50050</td>\n",
       "      <td>4</td>\n",
       "      <td>SHELF_ITEM</td>\n",
       "      <td>Marshmallows, marshmallow creme</td>\n",
       "      <td>2-4 months</td>\n",
       "      <td>unopened</td>\n",
       "      <td>SHELF</td>\n",
       "    </tr>\n",
       "    <tr>\n",
       "      <th>4</th>\n",
       "      <td>50050</td>\n",
       "      <td>5</td>\n",
       "      <td>BAKERY</td>\n",
       "      <td>Doughnuts, glazed or cake</td>\n",
       "      <td>1 week</td>\n",
       "      <td>G</td>\n",
       "      <td>REFRIGERATED</td>\n",
       "    </tr>\n",
       "  </tbody>\n",
       "</table>\n",
       "</div>"
      ],
      "text/plain": [
       "   OrderId  OrderItemId ProductType                      ProductItem  \\\n",
       "0    50050            1       DIARY                   Eggs, in shell   \n",
       "1    50050            2  SHELF_ITEM                        Tea, bags   \n",
       "2    50050            3      BAKERY                  Pies, mincemeat   \n",
       "3    50050            4  SHELF_ITEM  Marshmallows, marshmallow creme   \n",
       "4    50050            5      BAKERY        Doughnuts, glazed or cake   \n",
       "\n",
       "  ProductPeriod ProductDetails ProductStorage  \n",
       "0           NaN  Do not freeze         FROZEN  \n",
       "1     18 months       unopened          SHELF  \n",
       "2      8 months            NaN         FROZEN  \n",
       "3    2-4 months       unopened          SHELF  \n",
       "4        1 week              G   REFRIGERATED  "
      ]
     },
     "execution_count": 40,
     "metadata": {},
     "output_type": "execute_result"
    }
   ],
   "source": [
    "df1 = pd.read_csv('orderItemsRequests.csv')\n",
    "df1.head()"
   ]
  },
  {
   "cell_type": "code",
   "execution_count": 41,
   "id": "9bf048e7",
   "metadata": {},
   "outputs": [
    {
     "data": {
      "text/html": [
       "<div>\n",
       "<style scoped>\n",
       "    .dataframe tbody tr th:only-of-type {\n",
       "        vertical-align: middle;\n",
       "    }\n",
       "\n",
       "    .dataframe tbody tr th {\n",
       "        vertical-align: top;\n",
       "    }\n",
       "\n",
       "    .dataframe thead th {\n",
       "        text-align: right;\n",
       "    }\n",
       "</style>\n",
       "<table border=\"1\" class=\"dataframe\">\n",
       "  <thead>\n",
       "    <tr style=\"text-align: right;\">\n",
       "      <th></th>\n",
       "      <th>OrderId</th>\n",
       "      <th>OrderItemId</th>\n",
       "      <th>ProductType</th>\n",
       "      <th>ProductItem</th>\n",
       "      <th>ProductPeriod</th>\n",
       "      <th>ProductDetails</th>\n",
       "      <th>ProductStorage</th>\n",
       "    </tr>\n",
       "  </thead>\n",
       "  <tbody>\n",
       "    <tr>\n",
       "      <th>5739</th>\n",
       "      <td>50068</td>\n",
       "      <td>9</td>\n",
       "      <td>BAKING</td>\n",
       "      <td>Flour, whole wheat</td>\n",
       "      <td>6-8 months</td>\n",
       "      <td>opened</td>\n",
       "      <td>REFRIGERATED</td>\n",
       "    </tr>\n",
       "    <tr>\n",
       "      <th>5740</th>\n",
       "      <td>50068</td>\n",
       "      <td>10</td>\n",
       "      <td>VEGETABLES</td>\n",
       "      <td>Cauliflower</td>\n",
       "      <td>3-5 days</td>\n",
       "      <td>NaN</td>\n",
       "      <td>REFRIGERATED</td>\n",
       "    </tr>\n",
       "    <tr>\n",
       "      <th>5741</th>\n",
       "      <td>50068</td>\n",
       "      <td>11</td>\n",
       "      <td>PROCESSED_POULTRY</td>\n",
       "      <td>Lunch meats, after opening</td>\n",
       "      <td>3-5 days</td>\n",
       "      <td>NaN</td>\n",
       "      <td>REFRIGERATED</td>\n",
       "    </tr>\n",
       "    <tr>\n",
       "      <th>5742</th>\n",
       "      <td>50068</td>\n",
       "      <td>12</td>\n",
       "      <td>SOY</td>\n",
       "      <td>Soy or rice beverage, Re-hydrated TSP</td>\n",
       "      <td>3-4 months</td>\n",
       "      <td>unopened</td>\n",
       "      <td>SHELF</td>\n",
       "    </tr>\n",
       "    <tr>\n",
       "      <th>5743</th>\n",
       "      <td>50068</td>\n",
       "      <td>13</td>\n",
       "      <td>PROCESSED_MEAT</td>\n",
       "      <td>Sausage, raw, bulk type</td>\n",
       "      <td>1-2 months</td>\n",
       "      <td>NaN</td>\n",
       "      <td>FROZEN</td>\n",
       "    </tr>\n",
       "  </tbody>\n",
       "</table>\n",
       "</div>"
      ],
      "text/plain": [
       "      OrderId  OrderItemId        ProductType  \\\n",
       "5739    50068            9             BAKING   \n",
       "5740    50068           10         VEGETABLES   \n",
       "5741    50068           11  PROCESSED_POULTRY   \n",
       "5742    50068           12                SOY   \n",
       "5743    50068           13     PROCESSED_MEAT   \n",
       "\n",
       "                                ProductItem ProductPeriod ProductDetails  \\\n",
       "5739                     Flour, whole wheat    6-8 months         opened   \n",
       "5740                            Cauliflower      3-5 days            NaN   \n",
       "5741             Lunch meats, after opening      3-5 days            NaN   \n",
       "5742  Soy or rice beverage, Re-hydrated TSP    3-4 months       unopened   \n",
       "5743                Sausage, raw, bulk type    1-2 months            NaN   \n",
       "\n",
       "     ProductStorage  \n",
       "5739   REFRIGERATED  \n",
       "5740   REFRIGERATED  \n",
       "5741   REFRIGERATED  \n",
       "5742          SHELF  \n",
       "5743         FROZEN  "
      ]
     },
     "execution_count": 41,
     "metadata": {},
     "output_type": "execute_result"
    }
   ],
   "source": [
    "df1.tail()"
   ]
  },
  {
   "cell_type": "code",
   "execution_count": 42,
   "id": "2728fe05",
   "metadata": {},
   "outputs": [
    {
     "data": {
      "text/plain": [
       "RangeIndex(start=0, stop=5744, step=1)"
      ]
     },
     "execution_count": 42,
     "metadata": {},
     "output_type": "execute_result"
    }
   ],
   "source": [
    "df1.index"
   ]
  },
  {
   "cell_type": "code",
   "execution_count": 43,
   "id": "d276bbe6",
   "metadata": {},
   "outputs": [
    {
     "data": {
      "text/plain": [
       "(5744, 7)"
      ]
     },
     "execution_count": 43,
     "metadata": {},
     "output_type": "execute_result"
    }
   ],
   "source": [
    "df1.shape"
   ]
  },
  {
   "cell_type": "code",
   "execution_count": 44,
   "id": "a6cda0c9",
   "metadata": {},
   "outputs": [
    {
     "data": {
      "text/plain": [
       "array([[50050, 1, 'DIARY', ..., nan, 'Do not freeze', 'FROZEN'],\n",
       "       [50050, 2, 'SHELF_ITEM', ..., '18 months', 'unopened', 'SHELF'],\n",
       "       [50050, 3, 'BAKERY', ..., '8 months', nan, 'FROZEN'],\n",
       "       ...,\n",
       "       [50068, 11, 'PROCESSED_POULTRY', ..., '3-5 days', nan,\n",
       "        'REFRIGERATED'],\n",
       "       [50068, 12, 'SOY', ..., '3-4 months', 'unopened', 'SHELF'],\n",
       "       [50068, 13, 'PROCESSED_MEAT', ..., '1-2 months', nan, 'FROZEN']],\n",
       "      dtype=object)"
      ]
     },
     "execution_count": 44,
     "metadata": {},
     "output_type": "execute_result"
    }
   ],
   "source": [
    "df1.values"
   ]
  },
  {
   "cell_type": "code",
   "execution_count": 45,
   "id": "1c78256a",
   "metadata": {},
   "outputs": [
    {
     "data": {
      "text/plain": [
       "Index(['OrderId', 'OrderItemId', 'ProductType', 'ProductItem', 'ProductPeriod',\n",
       "       'ProductDetails', 'ProductStorage'],\n",
       "      dtype='object')"
      ]
     },
     "execution_count": 45,
     "metadata": {},
     "output_type": "execute_result"
    }
   ],
   "source": [
    "df1.columns"
   ]
  },
  {
   "cell_type": "code",
   "execution_count": 46,
   "id": "3190ee0f",
   "metadata": {},
   "outputs": [
    {
     "data": {
      "text/plain": [
       "OrderId            int64\n",
       "OrderItemId        int64\n",
       "ProductType       object\n",
       "ProductItem       object\n",
       "ProductPeriod     object\n",
       "ProductDetails    object\n",
       "ProductStorage    object\n",
       "dtype: object"
      ]
     },
     "execution_count": 46,
     "metadata": {},
     "output_type": "execute_result"
    }
   ],
   "source": [
    "df1.dtypes"
   ]
  },
  {
   "cell_type": "code",
   "execution_count": 47,
   "id": "70c10939",
   "metadata": {},
   "outputs": [
    {
     "data": {
      "text/plain": [
       "OrderId            28\n",
       "OrderItemId        18\n",
       "ProductType        23\n",
       "ProductItem       300\n",
       "ProductPeriod      88\n",
       "ProductDetails     21\n",
       "ProductStorage      4\n",
       "dtype: int64"
      ]
     },
     "execution_count": 47,
     "metadata": {},
     "output_type": "execute_result"
    }
   ],
   "source": [
    "df1.nunique()"
   ]
  },
  {
   "cell_type": "code",
   "execution_count": 48,
   "id": "71071837",
   "metadata": {},
   "outputs": [
    {
     "data": {
      "text/plain": [
       "OrderId           5744\n",
       "OrderItemId       5744\n",
       "ProductType       5744\n",
       "ProductItem       5744\n",
       "ProductPeriod     5425\n",
       "ProductDetails    2630\n",
       "ProductStorage    5744\n",
       "dtype: int64"
      ]
     },
     "execution_count": 48,
     "metadata": {},
     "output_type": "execute_result"
    }
   ],
   "source": [
    "df1.count()"
   ]
  },
  {
   "cell_type": "code",
   "execution_count": 49,
   "id": "0dacf731",
   "metadata": {},
   "outputs": [
    {
     "data": {
      "text/html": [
       "<div>\n",
       "<style scoped>\n",
       "    .dataframe tbody tr th:only-of-type {\n",
       "        vertical-align: middle;\n",
       "    }\n",
       "\n",
       "    .dataframe tbody tr th {\n",
       "        vertical-align: top;\n",
       "    }\n",
       "\n",
       "    .dataframe thead th {\n",
       "        text-align: right;\n",
       "    }\n",
       "</style>\n",
       "<table border=\"1\" class=\"dataframe\">\n",
       "  <thead>\n",
       "    <tr style=\"text-align: right;\">\n",
       "      <th></th>\n",
       "      <th>OrderId</th>\n",
       "      <th>OrderItemId</th>\n",
       "    </tr>\n",
       "  </thead>\n",
       "  <tbody>\n",
       "    <tr>\n",
       "      <th>count</th>\n",
       "      <td>5744.000000</td>\n",
       "      <td>5744.000000</td>\n",
       "    </tr>\n",
       "    <tr>\n",
       "      <th>mean</th>\n",
       "      <td>50059.993036</td>\n",
       "      <td>8.005397</td>\n",
       "    </tr>\n",
       "    <tr>\n",
       "      <th>std</th>\n",
       "      <td>6.765052</td>\n",
       "      <td>4.513621</td>\n",
       "    </tr>\n",
       "    <tr>\n",
       "      <th>min</th>\n",
       "      <td>50050.000000</td>\n",
       "      <td>1.000000</td>\n",
       "    </tr>\n",
       "    <tr>\n",
       "      <th>25%</th>\n",
       "      <td>50054.000000</td>\n",
       "      <td>4.000000</td>\n",
       "    </tr>\n",
       "    <tr>\n",
       "      <th>50%</th>\n",
       "      <td>50059.000000</td>\n",
       "      <td>8.000000</td>\n",
       "    </tr>\n",
       "    <tr>\n",
       "      <th>75%</th>\n",
       "      <td>50065.000000</td>\n",
       "      <td>11.000000</td>\n",
       "    </tr>\n",
       "    <tr>\n",
       "      <th>max</th>\n",
       "      <td>50077.000000</td>\n",
       "      <td>18.000000</td>\n",
       "    </tr>\n",
       "  </tbody>\n",
       "</table>\n",
       "</div>"
      ],
      "text/plain": [
       "            OrderId  OrderItemId\n",
       "count   5744.000000  5744.000000\n",
       "mean   50059.993036     8.005397\n",
       "std        6.765052     4.513621\n",
       "min    50050.000000     1.000000\n",
       "25%    50054.000000     4.000000\n",
       "50%    50059.000000     8.000000\n",
       "75%    50065.000000    11.000000\n",
       "max    50077.000000    18.000000"
      ]
     },
     "execution_count": 49,
     "metadata": {},
     "output_type": "execute_result"
    }
   ],
   "source": [
    "df1.describe()"
   ]
  },
  {
   "cell_type": "code",
   "execution_count": 50,
   "id": "a6b03498",
   "metadata": {},
   "outputs": [
    {
     "data": {
      "text/plain": [
       "OrderId              0\n",
       "OrderItemId          0\n",
       "ProductType          0\n",
       "ProductItem          0\n",
       "ProductPeriod      319\n",
       "ProductDetails    3114\n",
       "ProductStorage       0\n",
       "dtype: int64"
      ]
     },
     "execution_count": 50,
     "metadata": {},
     "output_type": "execute_result"
    }
   ],
   "source": [
    "df1.isnull().sum()"
   ]
  },
  {
   "cell_type": "code",
   "execution_count": 51,
   "id": "e06fd40c",
   "metadata": {},
   "outputs": [
    {
     "name": "stdout",
     "output_type": "stream",
     "text": [
      "<class 'pandas.core.frame.DataFrame'>\n",
      "RangeIndex: 5744 entries, 0 to 5743\n",
      "Data columns (total 7 columns):\n",
      " #   Column          Non-Null Count  Dtype \n",
      "---  ------          --------------  ----- \n",
      " 0   OrderId         5744 non-null   int64 \n",
      " 1   OrderItemId     5744 non-null   int64 \n",
      " 2   ProductType     5744 non-null   object\n",
      " 3   ProductItem     5744 non-null   object\n",
      " 4   ProductPeriod   5425 non-null   object\n",
      " 5   ProductDetails  2630 non-null   object\n",
      " 6   ProductStorage  5744 non-null   object\n",
      "dtypes: int64(2), object(5)\n",
      "memory usage: 314.2+ KB\n"
     ]
    }
   ],
   "source": [
    "df1.info()"
   ]
  },
  {
   "cell_type": "code",
   "execution_count": 52,
   "id": "e727369b",
   "metadata": {},
   "outputs": [
    {
     "data": {
      "text/plain": [
       "0    12 months\n",
       "dtype: object"
      ]
     },
     "execution_count": 52,
     "metadata": {},
     "output_type": "execute_result"
    }
   ],
   "source": [
    "df1['ProductPeriod'].mode()"
   ]
  },
  {
   "cell_type": "code",
   "execution_count": 53,
   "id": "b3566e0c",
   "metadata": {},
   "outputs": [],
   "source": [
    "df1['ProductPeriod'].fillna('12 months',inplace =True)"
   ]
  },
  {
   "cell_type": "code",
   "execution_count": 54,
   "id": "80100485",
   "metadata": {},
   "outputs": [
    {
     "data": {
      "text/html": [
       "<div>\n",
       "<style scoped>\n",
       "    .dataframe tbody tr th:only-of-type {\n",
       "        vertical-align: middle;\n",
       "    }\n",
       "\n",
       "    .dataframe tbody tr th {\n",
       "        vertical-align: top;\n",
       "    }\n",
       "\n",
       "    .dataframe thead th {\n",
       "        text-align: right;\n",
       "    }\n",
       "</style>\n",
       "<table border=\"1\" class=\"dataframe\">\n",
       "  <thead>\n",
       "    <tr style=\"text-align: right;\">\n",
       "      <th></th>\n",
       "      <th>OrderId</th>\n",
       "      <th>OrderItemId</th>\n",
       "      <th>ProductType</th>\n",
       "      <th>ProductItem</th>\n",
       "      <th>ProductPeriod</th>\n",
       "      <th>ProductDetails</th>\n",
       "      <th>ProductStorage</th>\n",
       "    </tr>\n",
       "  </thead>\n",
       "  <tbody>\n",
       "    <tr>\n",
       "      <th>0</th>\n",
       "      <td>50050</td>\n",
       "      <td>1</td>\n",
       "      <td>DIARY</td>\n",
       "      <td>Eggs, in shell</td>\n",
       "      <td>12 months</td>\n",
       "      <td>Do not freeze</td>\n",
       "      <td>FROZEN</td>\n",
       "    </tr>\n",
       "    <tr>\n",
       "      <th>1</th>\n",
       "      <td>50050</td>\n",
       "      <td>2</td>\n",
       "      <td>SHELF_ITEM</td>\n",
       "      <td>Tea, bags</td>\n",
       "      <td>18 months</td>\n",
       "      <td>unopened</td>\n",
       "      <td>SHELF</td>\n",
       "    </tr>\n",
       "    <tr>\n",
       "      <th>2</th>\n",
       "      <td>50050</td>\n",
       "      <td>3</td>\n",
       "      <td>BAKERY</td>\n",
       "      <td>Pies, mincemeat</td>\n",
       "      <td>8 months</td>\n",
       "      <td>NaN</td>\n",
       "      <td>FROZEN</td>\n",
       "    </tr>\n",
       "    <tr>\n",
       "      <th>3</th>\n",
       "      <td>50050</td>\n",
       "      <td>4</td>\n",
       "      <td>SHELF_ITEM</td>\n",
       "      <td>Marshmallows, marshmallow creme</td>\n",
       "      <td>2-4 months</td>\n",
       "      <td>unopened</td>\n",
       "      <td>SHELF</td>\n",
       "    </tr>\n",
       "    <tr>\n",
       "      <th>4</th>\n",
       "      <td>50050</td>\n",
       "      <td>5</td>\n",
       "      <td>BAKERY</td>\n",
       "      <td>Doughnuts, glazed or cake</td>\n",
       "      <td>1 week</td>\n",
       "      <td>G</td>\n",
       "      <td>REFRIGERATED</td>\n",
       "    </tr>\n",
       "  </tbody>\n",
       "</table>\n",
       "</div>"
      ],
      "text/plain": [
       "   OrderId  OrderItemId ProductType                      ProductItem  \\\n",
       "0    50050            1       DIARY                   Eggs, in shell   \n",
       "1    50050            2  SHELF_ITEM                        Tea, bags   \n",
       "2    50050            3      BAKERY                  Pies, mincemeat   \n",
       "3    50050            4  SHELF_ITEM  Marshmallows, marshmallow creme   \n",
       "4    50050            5      BAKERY        Doughnuts, glazed or cake   \n",
       "\n",
       "  ProductPeriod ProductDetails ProductStorage  \n",
       "0     12 months  Do not freeze         FROZEN  \n",
       "1     18 months       unopened          SHELF  \n",
       "2      8 months            NaN         FROZEN  \n",
       "3    2-4 months       unopened          SHELF  \n",
       "4        1 week              G   REFRIGERATED  "
      ]
     },
     "execution_count": 54,
     "metadata": {},
     "output_type": "execute_result"
    }
   ],
   "source": [
    "df1.head()"
   ]
  },
  {
   "cell_type": "code",
   "execution_count": 55,
   "id": "73723c19",
   "metadata": {},
   "outputs": [
    {
     "data": {
      "text/plain": [
       "0    opened\n",
       "dtype: object"
      ]
     },
     "execution_count": 55,
     "metadata": {},
     "output_type": "execute_result"
    }
   ],
   "source": [
    "df1['ProductDetails'].mode()"
   ]
  },
  {
   "cell_type": "code",
   "execution_count": 56,
   "id": "2572f5c3",
   "metadata": {},
   "outputs": [],
   "source": [
    "df1['ProductDetails'].fillna('opened',inplace = True)"
   ]
  },
  {
   "cell_type": "code",
   "execution_count": 57,
   "id": "610f39b7",
   "metadata": {},
   "outputs": [
    {
     "data": {
      "text/html": [
       "<div>\n",
       "<style scoped>\n",
       "    .dataframe tbody tr th:only-of-type {\n",
       "        vertical-align: middle;\n",
       "    }\n",
       "\n",
       "    .dataframe tbody tr th {\n",
       "        vertical-align: top;\n",
       "    }\n",
       "\n",
       "    .dataframe thead th {\n",
       "        text-align: right;\n",
       "    }\n",
       "</style>\n",
       "<table border=\"1\" class=\"dataframe\">\n",
       "  <thead>\n",
       "    <tr style=\"text-align: right;\">\n",
       "      <th></th>\n",
       "      <th>OrderId</th>\n",
       "      <th>OrderItemId</th>\n",
       "      <th>ProductType</th>\n",
       "      <th>ProductItem</th>\n",
       "      <th>ProductPeriod</th>\n",
       "      <th>ProductDetails</th>\n",
       "      <th>ProductStorage</th>\n",
       "    </tr>\n",
       "  </thead>\n",
       "  <tbody>\n",
       "    <tr>\n",
       "      <th>0</th>\n",
       "      <td>50050</td>\n",
       "      <td>1</td>\n",
       "      <td>DIARY</td>\n",
       "      <td>Eggs, in shell</td>\n",
       "      <td>12 months</td>\n",
       "      <td>Do not freeze</td>\n",
       "      <td>FROZEN</td>\n",
       "    </tr>\n",
       "    <tr>\n",
       "      <th>1</th>\n",
       "      <td>50050</td>\n",
       "      <td>2</td>\n",
       "      <td>SHELF_ITEM</td>\n",
       "      <td>Tea, bags</td>\n",
       "      <td>18 months</td>\n",
       "      <td>unopened</td>\n",
       "      <td>SHELF</td>\n",
       "    </tr>\n",
       "    <tr>\n",
       "      <th>2</th>\n",
       "      <td>50050</td>\n",
       "      <td>3</td>\n",
       "      <td>BAKERY</td>\n",
       "      <td>Pies, mincemeat</td>\n",
       "      <td>8 months</td>\n",
       "      <td>opened</td>\n",
       "      <td>FROZEN</td>\n",
       "    </tr>\n",
       "    <tr>\n",
       "      <th>3</th>\n",
       "      <td>50050</td>\n",
       "      <td>4</td>\n",
       "      <td>SHELF_ITEM</td>\n",
       "      <td>Marshmallows, marshmallow creme</td>\n",
       "      <td>2-4 months</td>\n",
       "      <td>unopened</td>\n",
       "      <td>SHELF</td>\n",
       "    </tr>\n",
       "    <tr>\n",
       "      <th>4</th>\n",
       "      <td>50050</td>\n",
       "      <td>5</td>\n",
       "      <td>BAKERY</td>\n",
       "      <td>Doughnuts, glazed or cake</td>\n",
       "      <td>1 week</td>\n",
       "      <td>G</td>\n",
       "      <td>REFRIGERATED</td>\n",
       "    </tr>\n",
       "  </tbody>\n",
       "</table>\n",
       "</div>"
      ],
      "text/plain": [
       "   OrderId  OrderItemId ProductType                      ProductItem  \\\n",
       "0    50050            1       DIARY                   Eggs, in shell   \n",
       "1    50050            2  SHELF_ITEM                        Tea, bags   \n",
       "2    50050            3      BAKERY                  Pies, mincemeat   \n",
       "3    50050            4  SHELF_ITEM  Marshmallows, marshmallow creme   \n",
       "4    50050            5      BAKERY        Doughnuts, glazed or cake   \n",
       "\n",
       "  ProductPeriod ProductDetails ProductStorage  \n",
       "0     12 months  Do not freeze         FROZEN  \n",
       "1     18 months       unopened          SHELF  \n",
       "2      8 months         opened         FROZEN  \n",
       "3    2-4 months       unopened          SHELF  \n",
       "4        1 week              G   REFRIGERATED  "
      ]
     },
     "execution_count": 57,
     "metadata": {},
     "output_type": "execute_result"
    }
   ],
   "source": [
    "df1.head()"
   ]
  },
  {
   "cell_type": "code",
   "execution_count": 58,
   "id": "bdbf440e",
   "metadata": {},
   "outputs": [
    {
     "data": {
      "text/plain": [
       "OrderId           0\n",
       "OrderItemId       0\n",
       "ProductType       0\n",
       "ProductItem       0\n",
       "ProductPeriod     0\n",
       "ProductDetails    0\n",
       "ProductStorage    0\n",
       "dtype: int64"
      ]
     },
     "execution_count": 58,
     "metadata": {},
     "output_type": "execute_result"
    }
   ],
   "source": [
    "df1.isnull().sum()"
   ]
  },
  {
   "cell_type": "code",
   "execution_count": 59,
   "id": "8c6a673f",
   "metadata": {},
   "outputs": [
    {
     "data": {
      "text/plain": [
       "<AxesSubplot:>"
      ]
     },
     "execution_count": 59,
     "metadata": {},
     "output_type": "execute_result"
    },
    {
     "data": {
      "image/png": "[encoded data removed]",
      "text/plain": [
       "<Figure size 432x288 with 1 Axes>"
      ]
     },
     "metadata": {
      "needs_background": "light"
     },
     "output_type": "display_data"
    }
   ],
   "source": [
    "df1.plot.line()"
   ]
  },
  {
   "cell_type": "code",
   "execution_count": 60,
   "id": "f043206d",
   "metadata": {},
   "outputs": [],
   "source": [
    "d1 = df1.head(20) "
   ]
  },
  {
   "cell_type": "code",
   "execution_count": 61,
   "id": "a2230bc9",
   "metadata": {},
   "outputs": [
    {
     "data": {
      "text/plain": [
       "<AxesSubplot:>"
      ]
     },
     "execution_count": 61,
     "metadata": {},
     "output_type": "execute_result"
    },
    {
     "data": {
      "image/png": "[encoded data removed]",
      "text/plain": [
       "<Figure size 432x288 with 1 Axes>"
      ]
     },
     "metadata": {
      "needs_background": "light"
     },
     "output_type": "display_data"
    }
   ],
   "source": [
    "d1.plot.bar()"
   ]
  },
  {
   "cell_type": "code",
   "execution_count": 62,
   "id": "63b311ac",
   "metadata": {},
   "outputs": [
    {
     "data": {
      "text/plain": [
       "<AxesSubplot:ylabel='Frequency'>"
      ]
     },
     "execution_count": 62,
     "metadata": {},
     "output_type": "execute_result"
    },
    {
     "data": {
      "image/png": "[encoded data removed]",
      "text/plain": [
       "<Figure size 432x288 with 1 Axes>"
      ]
     },
     "metadata": {
      "needs_background": "light"
     },
     "output_type": "display_data"
    }
   ],
   "source": [
    "d1.plot.hist()"
   ]
  },
  {
   "cell_type": "code",
   "execution_count": 63,
   "id": "b4c0a516",
   "metadata": {},
   "outputs": [
    {
     "data": {
      "text/plain": [
       "<AxesSubplot:>"
      ]
     },
     "execution_count": 63,
     "metadata": {},
     "output_type": "execute_result"
    },
    {
     "data": {
      "image/png": "[encoded data removed]",
      "text/plain": [
       "<Figure size 432x288 with 1 Axes>"
      ]
     },
     "metadata": {
      "needs_background": "light"
     },
     "output_type": "display_data"
    }
   ],
   "source": [
    "df1.plot.area()"
   ]
  },
  {
   "cell_type": "code",
   "execution_count": 64,
   "id": "a45e21c7",
   "metadata": {},
   "outputs": [
    {
     "data": {
      "text/plain": [
       "<AxesSubplot:xlabel='OrderItemId', ylabel='OrderId'>"
      ]
     },
     "execution_count": 64,
     "metadata": {},
     "output_type": "execute_result"
    },
    {
     "data": {
      "image/png": "[encoded data removed]",
      "text/plain": [
       "<Figure size 432x288 with 2 Axes>"
      ]
     },
     "metadata": {
      "needs_background": "light"
     },
     "output_type": "display_data"
    }
   ],
   "source": [
    "df1.plot.hexbin(x='OrderItemId', y='OrderId', gridsize=25)"
   ]
  },
  {
   "cell_type": "code",
   "execution_count": 65,
   "id": "852a0559",
   "metadata": {},
   "outputs": [
    {
     "data": {
      "text/plain": [
       "array([[<AxesSubplot:xlabel='OrderId', ylabel='OrderId'>,\n",
       "        <AxesSubplot:xlabel='OrderItemId', ylabel='OrderId'>],\n",
       "       [<AxesSubplot:xlabel='OrderId', ylabel='OrderItemId'>,\n",
       "        <AxesSubplot:xlabel='OrderItemId', ylabel='OrderItemId'>]],\n",
       "      dtype=object)"
      ]
     },
     "execution_count": 65,
     "metadata": {},
     "output_type": "execute_result"
    },
    {
     "data": {
      "image/png": "[encoded data removed]",
      "text/plain": [
       "<Figure size 432x432 with 4 Axes>"
      ]
     },
     "metadata": {
      "needs_background": "light"
     },
     "output_type": "display_data"
    }
   ],
   "source": [
    "scatter_matrix(df1, alpha=0.2, figsize=(6, 6))"
   ]
  },
  {
   "cell_type": "code",
   "execution_count": 66,
   "id": "46ccf906",
   "metadata": {},
   "outputs": [],
   "source": [
    "\n",
    "df_list = [df, df1]\n",
    "data = pd.concat(df_list)"
   ]
  },
  {
   "cell_type": "code",
   "execution_count": 67,
   "id": "8794ace7",
   "metadata": {},
   "outputs": [
    {
     "data": {
      "text/html": [
       "<div>\n",
       "<style scoped>\n",
       "    .dataframe tbody tr th:only-of-type {\n",
       "        vertical-align: middle;\n",
       "    }\n",
       "\n",
       "    .dataframe tbody tr th {\n",
       "        vertical-align: top;\n",
       "    }\n",
       "\n",
       "    .dataframe thead th {\n",
       "        text-align: right;\n",
       "    }\n",
       "</style>\n",
       "<table border=\"1\" class=\"dataframe\">\n",
       "  <thead>\n",
       "    <tr style=\"text-align: right;\">\n",
       "      <th></th>\n",
       "      <th>OrderId</th>\n",
       "      <th>OrderItemId</th>\n",
       "      <th>ProductType</th>\n",
       "      <th>ProductItem</th>\n",
       "      <th>ProductPeriod</th>\n",
       "      <th>ProductDetails</th>\n",
       "      <th>ProductStorage</th>\n",
       "      <th>Quantity</th>\n",
       "    </tr>\n",
       "  </thead>\n",
       "  <tbody>\n",
       "    <tr>\n",
       "      <th>0</th>\n",
       "      <td>20051</td>\n",
       "      <td>1</td>\n",
       "      <td>DIARY</td>\n",
       "      <td>Cheese, processed slices</td>\n",
       "      <td>1-2 months</td>\n",
       "      <td>no_details</td>\n",
       "      <td>REFRIGERATED</td>\n",
       "      <td>105.0</td>\n",
       "    </tr>\n",
       "    <tr>\n",
       "      <th>1</th>\n",
       "      <td>20051</td>\n",
       "      <td>2</td>\n",
       "      <td>DIARY</td>\n",
       "      <td>Eggs, in shell</td>\n",
       "      <td>3-5 weeks</td>\n",
       "      <td>no_details</td>\n",
       "      <td>REFRIGERATED</td>\n",
       "      <td>120.0</td>\n",
       "    </tr>\n",
       "    <tr>\n",
       "      <th>2</th>\n",
       "      <td>20051</td>\n",
       "      <td>3</td>\n",
       "      <td>DIARY</td>\n",
       "      <td>Margarine</td>\n",
       "      <td>12 months</td>\n",
       "      <td>no_details</td>\n",
       "      <td>FROZEN</td>\n",
       "      <td>140.0</td>\n",
       "    </tr>\n",
       "    <tr>\n",
       "      <th>3</th>\n",
       "      <td>20051</td>\n",
       "      <td>4</td>\n",
       "      <td>DIARY</td>\n",
       "      <td>Milk, plain or flavored</td>\n",
       "      <td>1 week</td>\n",
       "      <td>no_details</td>\n",
       "      <td>REFRIGERATED</td>\n",
       "      <td>135.0</td>\n",
       "    </tr>\n",
       "    <tr>\n",
       "      <th>4</th>\n",
       "      <td>20051</td>\n",
       "      <td>5</td>\n",
       "      <td>SOY</td>\n",
       "      <td>Tofu</td>\n",
       "      <td>1 week</td>\n",
       "      <td>no_details</td>\n",
       "      <td>REFRIGERATED</td>\n",
       "      <td>145.0</td>\n",
       "    </tr>\n",
       "  </tbody>\n",
       "</table>\n",
       "</div>"
      ],
      "text/plain": [
       "   OrderId  OrderItemId ProductType               ProductItem ProductPeriod  \\\n",
       "0    20051            1       DIARY  Cheese, processed slices    1-2 months   \n",
       "1    20051            2       DIARY            Eggs, in shell     3-5 weeks   \n",
       "2    20051            3       DIARY                 Margarine     12 months   \n",
       "3    20051            4       DIARY   Milk, plain or flavored        1 week   \n",
       "4    20051            5         SOY                      Tofu        1 week   \n",
       "\n",
       "  ProductDetails ProductStorage  Quantity  \n",
       "0     no_details   REFRIGERATED     105.0  \n",
       "1     no_details   REFRIGERATED     120.0  \n",
       "2     no_details         FROZEN     140.0  \n",
       "3     no_details   REFRIGERATED     135.0  \n",
       "4     no_details   REFRIGERATED     145.0  "
      ]
     },
     "execution_count": 67,
     "metadata": {},
     "output_type": "execute_result"
    }
   ],
   "source": [
    "data.head()"
   ]
  },
  {
   "cell_type": "code",
   "execution_count": 68,
   "id": "46a1e176",
   "metadata": {},
   "outputs": [
    {
     "data": {
      "text/plain": [
       "(14964, 8)"
      ]
     },
     "execution_count": 68,
     "metadata": {},
     "output_type": "execute_result"
    }
   ],
   "source": [
    "data.shape"
   ]
  },
  {
   "cell_type": "code",
   "execution_count": 69,
   "id": "756c1773",
   "metadata": {},
   "outputs": [
    {
     "data": {
      "text/plain": [
       "Int64Index([   0,    1,    2,    3,    4,    5,    6,    7,    8,    9,\n",
       "            ...\n",
       "            5734, 5735, 5736, 5737, 5738, 5739, 5740, 5741, 5742, 5743],\n",
       "           dtype='int64', length=14964)"
      ]
     },
     "execution_count": 69,
     "metadata": {},
     "output_type": "execute_result"
    }
   ],
   "source": [
    "data.index"
   ]
  },
  {
   "cell_type": "code",
   "execution_count": 70,
   "id": "04720946",
   "metadata": {},
   "outputs": [
    {
     "data": {
      "text/plain": [
       "array([[20051, 1, 'DIARY', ..., 'no_details', 'REFRIGERATED', 105.0],\n",
       "       [20051, 2, 'DIARY', ..., 'no_details', 'REFRIGERATED', 120.0],\n",
       "       [20051, 3, 'DIARY', ..., 'no_details', 'FROZEN', 140.0],\n",
       "       ...,\n",
       "       [50068, 11, 'PROCESSED_POULTRY', ..., 'opened', 'REFRIGERATED',\n",
       "        nan],\n",
       "       [50068, 12, 'SOY', ..., 'unopened', 'SHELF', nan],\n",
       "       [50068, 13, 'PROCESSED_MEAT', ..., 'opened', 'FROZEN', nan]],\n",
       "      dtype=object)"
      ]
     },
     "execution_count": 70,
     "metadata": {},
     "output_type": "execute_result"
    }
   ],
   "source": [
    "data.values"
   ]
  },
  {
   "cell_type": "code",
   "execution_count": 71,
   "id": "e42ca0d2",
   "metadata": {},
   "outputs": [
    {
     "data": {
      "text/plain": [
       "Index(['OrderId', 'OrderItemId', 'ProductType', 'ProductItem', 'ProductPeriod',\n",
       "       'ProductDetails', 'ProductStorage', 'Quantity'],\n",
       "      dtype='object')"
      ]
     },
     "execution_count": 71,
     "metadata": {},
     "output_type": "execute_result"
    }
   ],
   "source": [
    "data.columns"
   ]
  },
  {
   "cell_type": "code",
   "execution_count": 72,
   "id": "755f570d",
   "metadata": {},
   "outputs": [
    {
     "data": {
      "text/plain": [
       "<bound method DataFrame.value_counts of       OrderId  OrderItemId        ProductType  \\\n",
       "0       20051            1              DIARY   \n",
       "1       20051            2              DIARY   \n",
       "2       20051            3              DIARY   \n",
       "3       20051            4              DIARY   \n",
       "4       20051            5                SOY   \n",
       "...       ...          ...                ...   \n",
       "5739    50068            9             BAKING   \n",
       "5740    50068           10         VEGETABLES   \n",
       "5741    50068           11  PROCESSED_POULTRY   \n",
       "5742    50068           12                SOY   \n",
       "5743    50068           13     PROCESSED_MEAT   \n",
       "\n",
       "                                ProductItem ProductPeriod ProductDetails  \\\n",
       "0                  Cheese, processed slices    1-2 months     no_details   \n",
       "1                            Eggs, in shell     3-5 weeks     no_details   \n",
       "2                                 Margarine     12 months     no_details   \n",
       "3                   Milk, plain or flavored        1 week     no_details   \n",
       "4                                      Tofu        1 week     no_details   \n",
       "...                                     ...           ...            ...   \n",
       "5739                     Flour, whole wheat    6-8 months         opened   \n",
       "5740                            Cauliflower      3-5 days         opened   \n",
       "5741             Lunch meats, after opening      3-5 days         opened   \n",
       "5742  Soy or rice beverage, Re-hydrated TSP    3-4 months       unopened   \n",
       "5743                Sausage, raw, bulk type    1-2 months         opened   \n",
       "\n",
       "     ProductStorage  Quantity  \n",
       "0      REFRIGERATED     105.0  \n",
       "1      REFRIGERATED     120.0  \n",
       "2            FROZEN     140.0  \n",
       "3      REFRIGERATED     135.0  \n",
       "4      REFRIGERATED     145.0  \n",
       "...             ...       ...  \n",
       "5739   REFRIGERATED       NaN  \n",
       "5740   REFRIGERATED       NaN  \n",
       "5741   REFRIGERATED       NaN  \n",
       "5742          SHELF       NaN  \n",
       "5743         FROZEN       NaN  \n",
       "\n",
       "[14964 rows x 8 columns]>"
      ]
     },
     "execution_count": 72,
     "metadata": {},
     "output_type": "execute_result"
    }
   ],
   "source": [
    "data.value_counts"
   ]
  },
  {
   "cell_type": "code",
   "execution_count": 73,
   "id": "c3b563ca",
   "metadata": {},
   "outputs": [
    {
     "data": {
      "text/plain": [
       "OrderId             int64\n",
       "OrderItemId         int64\n",
       "ProductType        object\n",
       "ProductItem        object\n",
       "ProductPeriod      object\n",
       "ProductDetails     object\n",
       "ProductStorage     object\n",
       "Quantity          float64\n",
       "dtype: object"
      ]
     },
     "execution_count": 73,
     "metadata": {},
     "output_type": "execute_result"
    }
   ],
   "source": [
    "data.dtypes"
   ]
  },
  {
   "cell_type": "code",
   "execution_count": 74,
   "id": "25d290ef",
   "metadata": {},
   "outputs": [
    {
     "data": {
      "text/plain": [
       "OrderId              0\n",
       "OrderItemId          0\n",
       "ProductType          0\n",
       "ProductItem          0\n",
       "ProductPeriod      503\n",
       "ProductDetails       0\n",
       "ProductStorage       0\n",
       "Quantity          5744\n",
       "dtype: int64"
      ]
     },
     "execution_count": 74,
     "metadata": {},
     "output_type": "execute_result"
    }
   ],
   "source": [
    "data.isnull().sum()"
   ]
  },
  {
   "cell_type": "code",
   "execution_count": 75,
   "id": "64d0b03f",
   "metadata": {},
   "outputs": [],
   "source": [
    "\n",
    "data['Quantity'].fillna(data['Quantity'].mean(),inplace = True)"
   ]
  },
  {
   "cell_type": "code",
   "execution_count": 76,
   "id": "9b79b2ec",
   "metadata": {},
   "outputs": [
    {
     "data": {
      "text/html": [
       "<div>\n",
       "<style scoped>\n",
       "    .dataframe tbody tr th:only-of-type {\n",
       "        vertical-align: middle;\n",
       "    }\n",
       "\n",
       "    .dataframe tbody tr th {\n",
       "        vertical-align: top;\n",
       "    }\n",
       "\n",
       "    .dataframe thead th {\n",
       "        text-align: right;\n",
       "    }\n",
       "</style>\n",
       "<table border=\"1\" class=\"dataframe\">\n",
       "  <thead>\n",
       "    <tr style=\"text-align: right;\">\n",
       "      <th></th>\n",
       "      <th>OrderId</th>\n",
       "      <th>OrderItemId</th>\n",
       "      <th>ProductType</th>\n",
       "      <th>ProductItem</th>\n",
       "      <th>ProductPeriod</th>\n",
       "      <th>ProductDetails</th>\n",
       "      <th>ProductStorage</th>\n",
       "      <th>Quantity</th>\n",
       "    </tr>\n",
       "  </thead>\n",
       "  <tbody>\n",
       "    <tr>\n",
       "      <th>0</th>\n",
       "      <td>20051</td>\n",
       "      <td>1</td>\n",
       "      <td>DIARY</td>\n",
       "      <td>Cheese, processed slices</td>\n",
       "      <td>1-2 months</td>\n",
       "      <td>no_details</td>\n",
       "      <td>REFRIGERATED</td>\n",
       "      <td>105.0</td>\n",
       "    </tr>\n",
       "    <tr>\n",
       "      <th>1</th>\n",
       "      <td>20051</td>\n",
       "      <td>2</td>\n",
       "      <td>DIARY</td>\n",
       "      <td>Eggs, in shell</td>\n",
       "      <td>3-5 weeks</td>\n",
       "      <td>no_details</td>\n",
       "      <td>REFRIGERATED</td>\n",
       "      <td>120.0</td>\n",
       "    </tr>\n",
       "    <tr>\n",
       "      <th>2</th>\n",
       "      <td>20051</td>\n",
       "      <td>3</td>\n",
       "      <td>DIARY</td>\n",
       "      <td>Margarine</td>\n",
       "      <td>12 months</td>\n",
       "      <td>no_details</td>\n",
       "      <td>FROZEN</td>\n",
       "      <td>140.0</td>\n",
       "    </tr>\n",
       "    <tr>\n",
       "      <th>3</th>\n",
       "      <td>20051</td>\n",
       "      <td>4</td>\n",
       "      <td>DIARY</td>\n",
       "      <td>Milk, plain or flavored</td>\n",
       "      <td>1 week</td>\n",
       "      <td>no_details</td>\n",
       "      <td>REFRIGERATED</td>\n",
       "      <td>135.0</td>\n",
       "    </tr>\n",
       "    <tr>\n",
       "      <th>4</th>\n",
       "      <td>20051</td>\n",
       "      <td>5</td>\n",
       "      <td>SOY</td>\n",
       "      <td>Tofu</td>\n",
       "      <td>1 week</td>\n",
       "      <td>no_details</td>\n",
       "      <td>REFRIGERATED</td>\n",
       "      <td>145.0</td>\n",
       "    </tr>\n",
       "  </tbody>\n",
       "</table>\n",
       "</div>"
      ],
      "text/plain": [
       "   OrderId  OrderItemId ProductType               ProductItem ProductPeriod  \\\n",
       "0    20051            1       DIARY  Cheese, processed slices    1-2 months   \n",
       "1    20051            2       DIARY            Eggs, in shell     3-5 weeks   \n",
       "2    20051            3       DIARY                 Margarine     12 months   \n",
       "3    20051            4       DIARY   Milk, plain or flavored        1 week   \n",
       "4    20051            5         SOY                      Tofu        1 week   \n",
       "\n",
       "  ProductDetails ProductStorage  Quantity  \n",
       "0     no_details   REFRIGERATED     105.0  \n",
       "1     no_details   REFRIGERATED     120.0  \n",
       "2     no_details         FROZEN     140.0  \n",
       "3     no_details   REFRIGERATED     135.0  \n",
       "4     no_details   REFRIGERATED     145.0  "
      ]
     },
     "execution_count": 76,
     "metadata": {},
     "output_type": "execute_result"
    }
   ],
   "source": [
    "data.head()"
   ]
  },
  {
   "cell_type": "code",
   "execution_count": 77,
   "id": "9d47acae",
   "metadata": {},
   "outputs": [],
   "source": [
    "data.fillna('1 week ',inplace = True)"
   ]
  },
  {
   "cell_type": "code",
   "execution_count": 78,
   "id": "29ca94ce",
   "metadata": {},
   "outputs": [
    {
     "data": {
      "text/plain": [
       "OrderId           0\n",
       "OrderItemId       0\n",
       "ProductType       0\n",
       "ProductItem       0\n",
       "ProductPeriod     0\n",
       "ProductDetails    0\n",
       "ProductStorage    0\n",
       "Quantity          0\n",
       "dtype: int64"
      ]
     },
     "execution_count": 78,
     "metadata": {},
     "output_type": "execute_result"
    }
   ],
   "source": [
    "data.isnull().sum()"
   ]
  },
  {
   "cell_type": "code",
   "execution_count": 79,
   "id": "2e7ff08c",
   "metadata": {
    "scrolled": true
   },
   "outputs": [
    {
     "data": {
      "text/html": [
       "<div>\n",
       "<style scoped>\n",
       "    .dataframe tbody tr th:only-of-type {\n",
       "        vertical-align: middle;\n",
       "    }\n",
       "\n",
       "    .dataframe tbody tr th {\n",
       "        vertical-align: top;\n",
       "    }\n",
       "\n",
       "    .dataframe thead th {\n",
       "        text-align: right;\n",
       "    }\n",
       "</style>\n",
       "<table border=\"1\" class=\"dataframe\">\n",
       "  <thead>\n",
       "    <tr style=\"text-align: right;\">\n",
       "      <th></th>\n",
       "      <th>OrderId</th>\n",
       "      <th>OrderItemId</th>\n",
       "      <th>Quantity</th>\n",
       "    </tr>\n",
       "  </thead>\n",
       "  <tbody>\n",
       "    <tr>\n",
       "      <th>OrderId</th>\n",
       "      <td>1.000000</td>\n",
       "      <td>-0.493898</td>\n",
       "      <td>-0.000118</td>\n",
       "    </tr>\n",
       "    <tr>\n",
       "      <th>OrderItemId</th>\n",
       "      <td>-0.493898</td>\n",
       "      <td>1.000000</td>\n",
       "      <td>0.006609</td>\n",
       "    </tr>\n",
       "    <tr>\n",
       "      <th>Quantity</th>\n",
       "      <td>-0.000118</td>\n",
       "      <td>0.006609</td>\n",
       "      <td>1.000000</td>\n",
       "    </tr>\n",
       "  </tbody>\n",
       "</table>\n",
       "</div>"
      ],
      "text/plain": [
       "              OrderId  OrderItemId  Quantity\n",
       "OrderId      1.000000    -0.493898 -0.000118\n",
       "OrderItemId -0.493898     1.000000  0.006609\n",
       "Quantity    -0.000118     0.006609  1.000000"
      ]
     },
     "execution_count": 79,
     "metadata": {},
     "output_type": "execute_result"
    }
   ],
   "source": [
    "data.corr()"
   ]
  },
  {
   "cell_type": "code",
   "execution_count": 80,
   "id": "fec8a195",
   "metadata": {},
   "outputs": [],
   "source": [
    "from sklearn import linear_model\n",
    "from sklearn.preprocessing import StandardScaler\n",
    "scaler = StandardScaler()"
   ]
  },
  {
   "cell_type": "code",
   "execution_count": 81,
   "id": "a9d0e32c",
   "metadata": {
    "scrolled": true
   },
   "outputs": [],
   "source": [
    "x = data['OrderItemId']\n",
    "y = data['Quantity']"
   ]
  },
  {
   "cell_type": "code",
   "execution_count": 82,
   "id": "5bceef92",
   "metadata": {},
   "outputs": [],
   "source": [
    "Ys = scaler.fit_transform(pd.DataFrame(y))"
   ]
  },
  {
   "cell_type": "code",
   "execution_count": 83,
   "id": "a65800aa",
   "metadata": {},
   "outputs": [],
   "source": [
    "Xs = scaler.fit_transform(pd.DataFrame(x))"
   ]
  },
  {
   "cell_type": "code",
   "execution_count": 84,
   "id": "1188f545",
   "metadata": {},
   "outputs": [],
   "source": [
    "lm = linear_model.LinearRegression()\n",
    "model = lm.fit(Xs,Ys)"
   ]
  },
  {
   "cell_type": "code",
   "execution_count": 85,
   "id": "ad1e6089",
   "metadata": {},
   "outputs": [
    {
     "data": {
      "text/plain": [
       "array([[0.0066086]])"
      ]
     },
     "execution_count": 85,
     "metadata": {},
     "output_type": "execute_result"
    }
   ],
   "source": [
    "model.coef_"
   ]
  },
  {
   "cell_type": "code",
   "execution_count": 86,
   "id": "d721727f",
   "metadata": {},
   "outputs": [
    {
     "data": {
      "text/plain": [
       "array([-9.89835816e-18])"
      ]
     },
     "execution_count": 86,
     "metadata": {},
     "output_type": "execute_result"
    }
   ],
   "source": [
    "model.intercept_"
   ]
  },
  {
   "cell_type": "code",
   "execution_count": 87,
   "id": "50b31323",
   "metadata": {},
   "outputs": [
    {
     "data": {
      "text/plain": [
       "4.367356105994258e-05"
      ]
     },
     "execution_count": 87,
     "metadata": {},
     "output_type": "execute_result"
    }
   ],
   "source": [
    "model.score(Xs,Ys)"
   ]
  },
  {
   "cell_type": "code",
   "execution_count": null,
   "id": "e6cb1858",
   "metadata": {},
   "outputs": [],
   "source": []
  },
  {
   "cell_type": "code",
   "execution_count": null,
   "id": "3ca1ecea",
   "metadata": {},
   "outputs": [],
   "source": []
  }
 ],
 "metadata": {
  "kernelspec": {
   "display_name": "Python 3.9.5 64-bit",
   "language": "python",
   "name": "python395jvsc74a57bd031f2aee4e71d21fbe5cf8b01ff0e069b9275f58929596ceb00d14d90e3e16cd6"
  },
  "language_info": {
   "codemirror_mode": {
    "name": "ipython",
    "version": 3
   },
   "file_extension": ".py",
   "mimetype": "text/x-python",
   "name": "python",
   "nbconvert_exporter": "python",
   "pygments_lexer": "ipython3",
   "version": "3.9.5"
  }
 },
 "nbformat": 4,
 "nbformat_minor": 5
}
